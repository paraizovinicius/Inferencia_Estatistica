{
 "cells": [
  {
   "cell_type": "markdown",
   "metadata": {},
   "source": [
    "<a id=\"top\"></a>\n",
    "<div class=\"list-group\" id=\"list-tab\" role=\"tablist\">\n",
    "<h1 class=\"list-group-item list-group-item-action active\" data-toggle=\"list\" style='background:#005097; border:0' role=\"tab\" aria-controls=\"home\"><center>Inferência Estatística (GCC1625) - Trabalho 3</center></h1>\n",
    "\n",
    "- Nome completo: <Vinicius Gonçalves Paraizo Borges>\n",
    "- [Link para vídeo](<A>)"
   ]
  },
  {
   "cell_type": "markdown",
   "metadata": {},
   "source": [
    "# (1) Correlação e covariância\n",
    "\n",
    "\n",
    "Você é analista de dados de uma empresa de educação. Foram coletadas informações\n",
    "sobre os seguintes atributos de alunos de um curso online:\n",
    "\n",
    "- horas_estudo: número de horas que o aluno estudou na semana;\n",
    "- nota_final: nota final no curso (0 a 100).\n",
    "\n",
    "Seu objetivo é investigar a relação entre essas duas variáveis.\n",
    "\n",
    "1. Cálculo Manual\n",
    "    - Calcule a média de cada variável;\n",
    "    - Calcule a covariância amostral:\n",
    "        - $Cov(X,Y) = \\frac{1}{n-1}*\\sum_{i=1}^n (X_{i} - \\bar{X})(Y_{i} - \\bar{Y})$\n",
    "    - Calcule a correlação de Pearson:\n",
    "        - $\\rho(X,Y) = \\frac{Cov(X,Y)}{S_{X}S_{Y}}$\n",
    "\n",
    "Use as funções np.mean(), np.std() e np.cov() para comparar seus resultados."
   ]
  },
  {
   "cell_type": "code",
   "execution_count": 49,
   "metadata": {},
   "outputs": [],
   "source": [
    "import numpy as np\n",
    "import pandas as pd\n",
    "\n",
    "np.random.seed (42)\n",
    "horas_estudo = np.random.normal (10, 2, 30)\n",
    "nota_final = 50 + 4 * horas_estudo + np.random.normal(0, 5,\n",
    "30)\n",
    "df = pd.DataFrame ({\n",
    "'Horas de Estudo ': horas_estudo ,\n",
    "'Nota Final ': nota_final,\n",
    "})\n",
    "\n",
    "# Código disponibilizado no enunciado da questão"
   ]
  },
  {
   "cell_type": "code",
   "execution_count": 3,
   "metadata": {},
   "outputs": [
    {
     "data": {
      "text/html": [
       "<div>\n",
       "<style scoped>\n",
       "    .dataframe tbody tr th:only-of-type {\n",
       "        vertical-align: middle;\n",
       "    }\n",
       "\n",
       "    .dataframe tbody tr th {\n",
       "        vertical-align: top;\n",
       "    }\n",
       "\n",
       "    .dataframe thead th {\n",
       "        text-align: right;\n",
       "    }\n",
       "</style>\n",
       "<table border=\"1\" class=\"dataframe\">\n",
       "  <thead>\n",
       "    <tr style=\"text-align: right;\">\n",
       "      <th></th>\n",
       "      <th>Horas de Estudo</th>\n",
       "      <th>Nota Final</th>\n",
       "    </tr>\n",
       "  </thead>\n",
       "  <tbody>\n",
       "    <tr>\n",
       "      <th>0</th>\n",
       "      <td>10.993428</td>\n",
       "      <td>90.965180</td>\n",
       "    </tr>\n",
       "    <tr>\n",
       "      <th>1</th>\n",
       "      <td>9.723471</td>\n",
       "      <td>98.155277</td>\n",
       "    </tr>\n",
       "    <tr>\n",
       "      <th>2</th>\n",
       "      <td>11.295377</td>\n",
       "      <td>95.114022</td>\n",
       "    </tr>\n",
       "    <tr>\n",
       "      <th>3</th>\n",
       "      <td>13.046060</td>\n",
       "      <td>96.895684</td>\n",
       "    </tr>\n",
       "    <tr>\n",
       "      <th>4</th>\n",
       "      <td>9.531693</td>\n",
       "      <td>92.239498</td>\n",
       "    </tr>\n",
       "  </tbody>\n",
       "</table>\n",
       "</div>"
      ],
      "text/plain": [
       "   Horas de Estudo   Nota Final \n",
       "0         10.993428    90.965180\n",
       "1          9.723471    98.155277\n",
       "2         11.295377    95.114022\n",
       "3         13.046060    96.895684\n",
       "4          9.531693    92.239498"
      ]
     },
     "execution_count": 3,
     "metadata": {},
     "output_type": "execute_result"
    }
   ],
   "source": [
    "df.iloc[:5]"
   ]
  },
  {
   "cell_type": "code",
   "execution_count": 4,
   "metadata": {},
   "outputs": [
    {
     "name": "stdout",
     "output_type": "stream",
     "text": [
      "9.623706208297927\n",
      "87.88901248174199\n"
     ]
    }
   ],
   "source": [
    "# calcular a média das variáveis:\n",
    "\n",
    "x_bar = df['Horas de Estudo '].mean()\n",
    "y_bar = df['Nota Final '].mean()\n",
    "\n",
    "print(x_bar)\n",
    "print(y_bar)"
   ]
  },
  {
   "cell_type": "code",
   "execution_count": 17,
   "metadata": {},
   "outputs": [
    {
     "data": {
      "text/plain": [
       "10.993428306022466"
      ]
     },
     "execution_count": 17,
     "metadata": {},
     "output_type": "execute_result"
    }
   ],
   "source": [
    "df.iloc[0][df.columns[0]]"
   ]
  },
  {
   "cell_type": "code",
   "execution_count": 37,
   "metadata": {},
   "outputs": [],
   "source": [
    "def covariance(x_bar,y_bar,df):\n",
    "    desvios = []\n",
    "    n = len(df)\n",
    "    for i in range(n):\n",
    "        x_i = df.iloc[i][df.columns[0]]\n",
    "        y_i = df.iloc[i][df.columns[1]]\n",
    "        desvio_x = x_i - x_bar\n",
    "        desvio_y = y_i - y_bar\n",
    "        desvios.append(desvio_x * desvio_y)\n",
    "    \n",
    "    sum = np.sum(desvios)\n",
    "    cov = (1/(n-1))*sum\n",
    "    return cov"
   ]
  },
  {
   "cell_type": "code",
   "execution_count": null,
   "metadata": {},
   "outputs": [
    {
     "name": "stdout",
     "output_type": "stream",
     "text": [
      "13.788410270749694\n"
     ]
    }
   ],
   "source": [
    "cov = covariance(x_bar,y_bar,df)\n",
    "\n",
    "print(cov)\n",
    "\n",
    "# Covariancia positiva !"
   ]
  },
  {
   "cell_type": "code",
   "execution_count": null,
   "metadata": {},
   "outputs": [
    {
     "name": "stdout",
     "output_type": "stream",
     "text": [
      "[[ 3.24004628 13.78841027]\n",
      " [13.78841027 80.1403243 ]]\n"
     ]
    }
   ],
   "source": [
    "covariance = np.cov(df['Horas de Estudo '], df['Nota Final '])\n",
    "print(covariance) # resultado igual !"
   ]
  },
  {
   "cell_type": "code",
   "execution_count": 39,
   "metadata": {},
   "outputs": [
    {
     "data": {
      "text/plain": [
       "0.8556832738480706"
      ]
     },
     "execution_count": 39,
     "metadata": {},
     "output_type": "execute_result"
    }
   ],
   "source": [
    "# Coeficiente de pearson:\n",
    "# r = cov(x, y) / (σx * σy)\n",
    "\n",
    "def pearson_coeff(cov,s1,s2):\n",
    "    return cov / (s1*s2)\n",
    "\n",
    "s1 = df['Horas de Estudo '].std()\n",
    "s2 = df['Nota Final '].std()\n",
    "\n",
    "p = pearson_coeff(cov,s1,s2)\n",
    "\n",
    "p"
   ]
  },
  {
   "cell_type": "code",
   "execution_count": null,
   "metadata": {},
   "outputs": [
    {
     "data": {
      "text/plain": [
       "0.8556832738480707"
      ]
     },
     "execution_count": 40,
     "metadata": {},
     "output_type": "execute_result"
    }
   ],
   "source": [
    "pearson_coef = np.corrcoef(df['Horas de Estudo '], df['Nota Final '])[0, 1]\n",
    "\n",
    "pearson_coef # Resultado igual !"
   ]
  },
  {
   "cell_type": "markdown",
   "metadata": {},
   "source": [
    "2. Visualização\n",
    "    - Crie um gráfico de dispersão entre horas_estudo e nota_final;\n",
    "    - Adicione uma linha de tendência linear;\n",
    "    - Interprete o resultado: a relação é positiva, negativa ou nula?"
   ]
  },
  {
   "cell_type": "code",
   "execution_count": null,
   "metadata": {},
   "outputs": [
    {
     "data": {
      "image/png": "[encoded data removed]",
      "text/plain": [
       "<Figure size 500x500 with 1 Axes>"
      ]
     },
     "metadata": {},
     "output_type": "display_data"
    }
   ],
   "source": [
    "import seaborn as sns\n",
    "import matplotlib.pyplot as plt\n",
    "sns.lmplot(x='Horas de Estudo ', y='Nota Final ', data=df)\n",
    "plt.title('Relação entre Horas de Estudo e Nota Final ')\n",
    "plt.grid(True)\n",
    "plt.show()\n",
    "\n",
    "# Relação positiva: quando uma variável cresce, a outra cresce também."
   ]
  },
  {
   "cell_type": "markdown",
   "metadata": {},
   "source": [
    "3. Interpretação\n",
    "    - O valor da correlação está mais próximo de 0, +1 ou –1? O que isso indica?\n",
    "    - A covariância obtida é positiva ou negativa? O que isso significa no contexto?\n",
    "    - Se a unidade da nota fosse alterada (ex: de 0–100 para 0–10), o valor da\n",
    "correlação mudaria? E a covariância?"
   ]
  },
  {
   "cell_type": "code",
   "execution_count": null,
   "metadata": {},
   "outputs": [
    {
     "name": "stdout",
     "output_type": "stream",
     "text": [
      "                  Horas de Estudo   Nota Final \n",
      "Horas de Estudo           1.000000     0.855683\n",
      "Nota Final                0.855683     1.000000 \n",
      "\n",
      "\n",
      "cov: 13.788410270749694\n",
      "cov alt: 3.240046277462607\n",
      "\n",
      "\n",
      "                  Horas de Estudo   Nota Final - alt\n",
      "Horas de Estudo           1.000000          0.855683\n",
      "Nota Final - alt          0.855683          1.000000\n"
     ]
    }
   ],
   "source": [
    "# O valor da correlação está mais próximo de +1 do que de 0 (sem correlação) e muito menos de -1 (correlação negativa)\n",
    "# Podemos ver isso através da matriz de correlação (covariância normalizada) - igual ao coef de pearson.\n",
    "\n",
    "print(df[['Horas de Estudo ', 'Nota Final ']].corr(),'\\n\\n')\n",
    "\n",
    "# Covariância obtida é positiva. Isso significa que se uma variável aumenta, a outra tem tendência em aumentar também.\n",
    "\n",
    "# A unidade sendo alterada, o valor da covariância altera, pois a escala muda:\n",
    "df['Nota Final - /10'] = df['Nota Final ']/10\n",
    "\n",
    "cov_alt = np.cov(df['Horas de Estudo '], df['Nota Final - /10'])\n",
    "print(f\"cov: {cov}\")\n",
    "print(f\"cov alt: {cov_alt[0][0]}\\n\\n\")\n",
    "\n",
    "# Porém, a correlação não mudaria, pois se trata da covariância normalizada (entre -1 e 1). Os desvios padrões se ajustam.\n",
    "print(df[['Horas de Estudo ', 'Nota Final - /10']].corr())\n"
   ]
  },
  {
   "cell_type": "markdown",
   "metadata": {},
   "source": [
    "4. Outras simulações\n",
    "    - Gere um novo conjunto de dados em que a correlação entre horas_estudo\n",
    "e nota_final seja próxima de zero;\n",
    "    - Gere um conjunto com correlação negativa entre as variáveis."
   ]
  },
  {
   "cell_type": "code",
   "execution_count": 61,
   "metadata": {},
   "outputs": [
    {
     "data": {
      "text/html": [
       "<div>\n",
       "<style scoped>\n",
       "    .dataframe tbody tr th:only-of-type {\n",
       "        vertical-align: middle;\n",
       "    }\n",
       "\n",
       "    .dataframe tbody tr th {\n",
       "        vertical-align: top;\n",
       "    }\n",
       "\n",
       "    .dataframe thead th {\n",
       "        text-align: right;\n",
       "    }\n",
       "</style>\n",
       "<table border=\"1\" class=\"dataframe\">\n",
       "  <thead>\n",
       "    <tr style=\"text-align: right;\">\n",
       "      <th></th>\n",
       "      <th>Horas de Estudo</th>\n",
       "      <th>Nota Final</th>\n",
       "    </tr>\n",
       "  </thead>\n",
       "  <tbody>\n",
       "    <tr>\n",
       "      <th>Horas de Estudo</th>\n",
       "      <td>1.000000</td>\n",
       "      <td>-0.118644</td>\n",
       "    </tr>\n",
       "    <tr>\n",
       "      <th>Nota Final</th>\n",
       "      <td>-0.118644</td>\n",
       "      <td>1.000000</td>\n",
       "    </tr>\n",
       "  </tbody>\n",
       "</table>\n",
       "</div>"
      ],
      "text/plain": [
       "                  Horas de Estudo   Nota Final \n",
       "Horas de Estudo           1.000000    -0.118644\n",
       "Nota Final               -0.118644     1.000000"
      ]
     },
     "execution_count": 61,
     "metadata": {},
     "output_type": "execute_result"
    }
   ],
   "source": [
    "# Conjunto em que correlação entre 'horas estudo' e 'nota final' seja próxima de zero\n",
    "np.random.seed (42)\n",
    "horas_estudo = np.random.normal (10, 2, 30)\n",
    "nota_final = np.random.uniform(0, 100, 30) # numeros aleatórios entre 0 a 100\n",
    "df = pd.DataFrame ({\n",
    "'Horas de Estudo ': horas_estudo ,\n",
    "'Nota Final ': nota_final,\n",
    "})\n",
    "\n",
    "df.corr()"
   ]
  },
  {
   "cell_type": "code",
   "execution_count": null,
   "metadata": {},
   "outputs": [],
   "source": [
    "# Conjunto em que correlação entre 'horas estudo' e 'nota final' seja negativa\n",
    "np.random.seed (42)\n",
    "horas_estudo = np.random.normal (10, 2, 30)\n",
    "nota_final = np.random.normal(0, 100, 30) # numeros aleatórios entre 0 a 100\n",
    "df = pd.DataFrame ({\n",
    "'Horas de Estudo ': horas_estudo ,\n",
    "'Nota Final ': nota_final,\n",
    "})\n",
    "\n",
    "df.corr()"
   ]
  },
  {
   "cell_type": "markdown",
   "metadata": {},
   "source": [
    "# (2)"
   ]
  }
 ],
 "metadata": {
  "kernelspec": {
   "display_name": "base",
   "language": "python",
   "name": "python3"
  },
  "language_info": {
   "codemirror_mode": {
    "name": "ipython",
    "version": 3
   },
   "file_extension": ".py",
   "mimetype": "text/x-python",
   "name": "python",
   "nbconvert_exporter": "python",
   "pygments_lexer": "ipython3",
   "version": "3.12.7"
  }
 },
 "nbformat": 4,
 "nbformat_minor": 2
}
