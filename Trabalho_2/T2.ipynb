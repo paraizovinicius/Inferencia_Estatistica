{
 "cells": [
  {
   "cell_type": "markdown",
   "metadata": {},
   "source": [
    "<a id=\"top\"></a>\n",
    "<div class=\"list-group\" id=\"list-tab\" role=\"tablist\">\n",
    "<h1 class=\"list-group-item list-group-item-action active\" data-toggle=\"list\" style='background:#005097; border:0' role=\"tab\" aria-controls=\"home\"><center>Inferência Estatística (GCC1625) - Trabalho 2</center></h1>\n",
    "\n",
    "- Nome completo: <Vinicius Gonçalves Paraizo Borges>\n",
    "- [Link para vídeo](<https://youtu.be/6_4gmu0vXBY>)"
   ]
  },
  {
   "cell_type": "markdown",
   "metadata": {},
   "source": [
    "# (1) Máquina desregulada?"
   ]
  },
  {
   "cell_type": "markdown",
   "metadata": {},
   "source": [
    "Considere que uma máquina de preenchimento de garrafas está configurada para preencher cada\n",
    "garrafa com 500 ml de vinho. O fabricante suspeita de que essa máquina está preenchendo\n",
    "as garrafas com valores a menor. Ele então coleta uma amostra de 20 garrafas preenchidas a\n",
    "partir da linha de produção e mede cuidadosamente o volume em cada uma delas. Os resultados\n",
    "obtidos nessas medições estão a seguir (valores em miligramas):\n",
    "484.11, 459.49, 471.38, 512.01, 494.48, 528.63, 493.64, 485.03, 473.88, 501.59, 502.85, 538.08,\n",
    "465.68, 495.03, 475.32, 529.41, 518.13, 464.32, 449.08, 489.27\n",
    "\n",
    "\n",
    "Nessa parte do trabalho você deve verificar a alegação de que a máquina está desregulada,\n",
    "conforme a suspeita do fabricante."
   ]
  },
  {
   "cell_type": "markdown",
   "metadata": {},
   "source": [
    "(i) Os procedimentos paramétricos de testes de hipóteses sobre uma amostra que estudamos\n",
    "em nosso curso presumem que a amostra a ser usada é proveniente de uma distribuição\n",
    "aproximadamente normal. Para a amostra fornecida verifique essa hipótese usando dois\n",
    "dos testes de normalidade que estudamos no curso, o teste de Shapiro-Wilk e o teste\n",
    "usando QQ-plot. Nessa verificação defina o nível de significância como α = 0.05."
   ]
  },
  {
   "cell_type": "code",
   "execution_count": 15,
   "metadata": {},
   "outputs": [],
   "source": [
    "import numpy as np\n",
    "from scipy.stats import norm\n",
    "\n",
    "def phi_inversa(amostra, a):\n",
    "  n = amostra.shape[0]\n",
    "  i = np.arange(start=1, stop=n+1) # \n",
    "  d_i = (i-a)/(n+1-2*a)\n",
    "  return norm.ppf(d_i)"
   ]
  },
  {
   "cell_type": "code",
   "execution_count": 17,
   "metadata": {},
   "outputs": [
    {
     "data": {
      "image/png": "[encoded data removed]",
      "text/plain": [
       "<Figure size 640x480 with 1 Axes>"
      ]
     },
     "metadata": {},
     "output_type": "display_data"
    }
   ],
   "source": [
    "import matplotlib.pyplot as plt\n",
    "from scipy import stats\n",
    "import numpy as np\n",
    "\n",
    "\n",
    "amostra = np.array([484.11, 459.49, 471.38, 512.01, 494.48, 528.63, 493.64,\n",
    "                    485.03, 473.88, 501.59, 502.85, 538.08, 465.68, 495.03,\n",
    "                    475.32, 529.41, 518.13, 464.32, 449.08, 489.27])\n",
    "\n",
    "amostra = np.sort(amostra)\n",
    "\n",
    "a = 0.05\n",
    "x = phi_inversa(amostra, a)\n",
    "\n",
    "y = amostra\n",
    "\n",
    "plt.xlabel('Quantis Teóricos', color='#1C2833')\n",
    "plt.ylabel('Valores Ordenados', color='#1C2833')\n",
    "plt.plot(x, y, 'o', color='blue')\n",
    "\n",
    "# ajusta uma reta sobre os pontos da amostra para facilitar a inspeção visual.\n",
    "slope, intercept, r_value, p_value, std_err = stats.linregress(x,y)\n",
    "y = slope * x + intercept\n",
    "plt.plot(x, y, '-r', label='y=2x+1')\n",
    "plt.show()\n",
    "\n",
    "# scipy.stats.probplot(amostra, dist=\"norm\", plot=matplotlib.pyplot)"
   ]
  },
  {
   "cell_type": "markdown",
   "metadata": {},
   "source": [
    "*Sua explicação aqui:*\n",
    "\n",
    "O **QQ-plot** é uma ferramenta usada para avaliar se uma amostra segue uma distribuição normal.  \n",
    "Ele compara os **quantis da amostra** com os **quantis teóricos de uma distribuição normal padrão**.\n",
    "\n",
    "Para isso, usamos a **função phi-inversa**, que retorna os valores z da normal padrão correspondentes às posições acumuladas da amostra.  \n",
    "Esses valores são os **quantis teóricos esperados**.\n",
    "\n",
    "No gráfico, cada ponto representa um valor da amostra versus seu respectivo quantil teórico. O menor valor da amostra é representado pelo menor valor da 'amostra' do quantil teórico e assim em diante.\n",
    "\n",
    "Se os dados forem aproximadamente normais, os pontos devem se alinhar sobre a linha de referência vermelha.\n",
    "\n",
    "Como os pontos no nosso gráfico se alinham bem à linha vermelha, temos uma forte indicação de que a distribuição da amostra é aproximadamente normal.\n",
    "\n",
    "---\n"
   ]
  },
  {
   "cell_type": "code",
   "execution_count": 18,
   "metadata": {},
   "outputs": [
    {
     "name": "stdout",
     "output_type": "stream",
     "text": [
      "valor-p = 0.822327\n",
      "A hipótese nula pode NÃO ser rejeitada\n"
     ]
    }
   ],
   "source": [
    "import numpy as np\n",
    "from scipy.stats import shapiro\n",
    "\n",
    "def apply_normaltest(x):\n",
    "  k2, p = stats.shapiro(x)\n",
    "  alpha = .05\n",
    "  print(\"valor-p = {:g}\".format(p))\n",
    "\n",
    "  if p < alpha:  # H_0: x é proveniente de uma distribuição normal\n",
    "    print(\"A hipótese nula pode ser rejeitada\")\n",
    "  else:\n",
    "    print(\"A hipótese nula pode NÃO ser rejeitada\")\n",
    "\n",
    "amostra = np.array([484.11, 459.49, 471.38, 512.01, 494.48, 528.63, 493.64,\n",
    "                    485.03, 473.88, 501.59, 502.85, 538.08, 465.68, 495.03,\n",
    "                    475.32, 529.41, 518.13, 464.32, 449.08, 489.27])\n",
    "\n",
    "apply_normaltest(amostra)\n",
    "\n",
    "# Se o valor-p for menor que α (0.05): Rejeitamos H0 = a amostra provavelmente não é normal\n",
    "# Se o valor-p for maior que α (0.05): Não rejeitamos H0 = não temos evidência contra a normalidade."
   ]
  },
  {
   "cell_type": "markdown",
   "metadata": {},
   "source": [
    "*Sua explicação aqui:*\n",
    "\n",
    "- **H₀**: A amostra segue uma distribuição normal.  \n",
    "- **H₁**: A amostra não segue uma distribuição normal.  \n",
    "\n",
    "---\n",
    "\n",
    "Se o valor-p for menor que α (0.05): Rejeitamos H₀ = a amostra provavelmente não é normal.\n",
    "\n",
    "Se o valor-p for maior que α (0.05): Não rejeitamos H₀ = não temos evidência contra a normalidade.\n",
    "\n",
    "---\n",
    "\n",
    "Neste caso, valor-p = 0.8223. Logo, NÃO rejeitamos H₀ = não temos evidência contra a normalidade.\n",
    "\n",
    "---\n"
   ]
  },
  {
   "cell_type": "markdown",
   "metadata": {},
   "source": [
    "(ii) Agora, aplique o teste de hipóteses. Repare que a variância da população é desconhecida;\n",
    "sendo assim, certifique-se de usar o procedimento de teste de hipóteses adequado para\n",
    "essa situação. Apresente sua análise para o nível de significância igual a 1%. Apresente\n",
    "e descreva claramente a aplicação dos quatro passos do procedimento."
   ]
  },
  {
   "cell_type": "code",
   "execution_count": 19,
   "metadata": {},
   "outputs": [
    {
     "name": "stdout",
     "output_type": "stream",
     "text": [
      "Não há evidência para rejeitar a hipótese nula.\n",
      "p_value: 0.0594 maior que alpha: 0.01\n"
     ]
    }
   ],
   "source": [
    "import numpy as np\n",
    "from scipy.stats import norm\n",
    "\n",
    "alpha = 0.01 # nível de significância de 1%\n",
    "mu_0 = 500\n",
    "amostra = np.array([484.11, 459.49, 471.38, 512.01, 494.48, 528.63, 493.64,\n",
    "                    485.03, 473.88, 501.59, 502.85, 538.08, 465.68, 495.03,\n",
    "                    475.32, 529.41, 518.13, 464.32, 449.08, 489.27])\n",
    "\n",
    "x_bar = np.mean(amostra)\n",
    "\n",
    "# desvio padrão da amostra\n",
    "sigma = (amostra.std())\n",
    "\n",
    "# Calcular a estatística do teste\n",
    "z_score = (x_bar-mu_0)/(sigma/np.sqrt(len(amostra)))\n",
    "\n",
    "# Computar o p-valor (teste unicaudal à esquerda)\n",
    "p_value = norm.cdf(z_score)\n",
    "\n",
    "# Interpretar o resultado\n",
    "if p_value < alpha:\n",
    "    print(\"Há evidência para rejeitar a hipótese nula.\")\n",
    "    print(f'p_value: {p_value:.4f} menor que alpha: {alpha}')\n",
    "else:\n",
    "    print(\"Não há evidência para rejeitar a hipótese nula.\")\n",
    "    print(f'p_value: {p_value:.4f} maior que alpha: {alpha}')\n"
   ]
  },
  {
   "cell_type": "markdown",
   "metadata": {},
   "source": [
    "*Sua explicação aqui:*\n",
    "\n",
    "Os 4 passos do procedimento a seguir:\n",
    "\n",
    "1. Formular as hipóteses nula e alternativa\n",
    "\n",
    "- **H₀**: A máquina está preenchendo as garrafas com exatamente **500 ml**.  \n",
    "- **H₁**: A máquina está preenchendo as garrafas com **menos que 500 ml**.\n",
    "\n",
    "Este é um teste **unilateral à esquerda**.\n",
    "\n",
    "---\n",
    "\n",
    "2. Computar a estatística de teste (test statistic)\n",
    "\n",
    "Utilizamos o **teste Z**, com média e desvio padrão estimados da amostra.\n",
    "\n",
    "\n",
    "---\n",
    "\n",
    "\n",
    "3. Computar o p-valor (p-value)\n",
    "\n",
    "`norm.cdf(z_score)`\n",
    "\n",
    "\n",
    "---\n",
    "\n",
    "\n",
    "4. Interpretar e declarar o resultado\n",
    "\n",
    "Como o p-valor é maior do que alpha, a hipótese nula NÃO pode ser descartada. Não é significativo estatisticamente para conseguirmos contrariar **H₀**.\n",
    "\n",
    "---"
   ]
  },
  {
   "cell_type": "markdown",
   "metadata": {},
   "source": [
    "# (2) Um estilo diferente ajuda?"
   ]
  },
  {
   "cell_type": "markdown",
   "metadata": {},
   "source": [
    "O conjunto de dados fornecido no arquivo golfe.csv lista as pontuações de uma rodada para 75\n",
    "membros selecionados aleatoriamente em um campo de golfe, primeiro usando seus próprios\n",
    "tacos originais e, dois meses depois, usando novos tacos com um estilo (design) experimental.\n",
    "Queremos verificar a alegação de que esse novo estilo de taco ajuda no desempenho dos\n",
    "jogadores.\n",
    "\n",
    "(i) Os procedimentos paramétricos de testes de hipóteses sobre duas amostras que estudamos\n",
    "em nosso curso presumem que as amostras a serem usadas são provenientes de uma\n",
    "distribuição aproximadamente normal. Para cada uma das amostras fornecidas, verifique\n",
    "essa hipótese usando dois dos testes de normalidades que estudamos no curso. Para isso,\n",
    "use um nível de significância igual a 5%."
   ]
  },
  {
   "cell_type": "code",
   "execution_count": 23,
   "metadata": {},
   "outputs": [
    {
     "name": "stdout",
     "output_type": "stream",
     "text": [
      "     Old Score  New Score \n",
      "ID                        \n",
      "1           81          82\n",
      "2           72          72\n",
      "3           77          74\n",
      "4           74          72\n",
      "5           78          78\n"
     ]
    }
   ],
   "source": [
    "import pandas as pd\n",
    "\n",
    "golfe_path = \"golfe.csv\"\n",
    "\n",
    "df = pd.read_csv(golfe_path, index_col='ID ', header=0 ,delimiter=';')\n",
    "\n",
    "\n",
    "print(df.head())"
   ]
  },
  {
   "cell_type": "code",
   "execution_count": 24,
   "metadata": {},
   "outputs": [
    {
     "name": "stdout",
     "output_type": "stream",
     "text": [
      "Amostra 0:\n",
      "valor-p = 2.26763e-05\n",
      "A hipótese nula pode ser rejeitada. A amostra provavelmente NÃO é normal.\n",
      "\n",
      "Amostra 1:\n",
      "valor-p = 0.000138904\n",
      "A hipótese nula pode ser rejeitada. A amostra provavelmente NÃO é normal.\n"
     ]
    }
   ],
   "source": [
    "from scipy.stats import shapiro\n",
    "\n",
    "def apply_normaltest(x):\n",
    "  k2, p = shapiro(x)\n",
    "  alpha = .05\n",
    "  print(\"valor-p = {:g}\".format(p))\n",
    "\n",
    "  if p < alpha:  # H_0: x é proveniente de uma distribuição normal\n",
    "    print(\"A hipótese nula pode ser rejeitada. A amostra provavelmente NÃO é normal.\")\n",
    "  else:\n",
    "    print(\"A hipótese nula pode NÃO ser rejeitada. A amostra provavelmente é normal.\")\n",
    "\n",
    "amostra_0 = df['Old Score'] # antes\n",
    "amostra_1 = df['New Score '] # depois\n",
    "\n",
    "\n",
    "print('Amostra 0:')\n",
    "apply_normaltest(amostra_0)\n",
    "\n",
    "print('\\nAmostra 1:')\n",
    "apply_normaltest(amostra_1)\n",
    "\n",
    "# Se o valor-p for menor que α (0.05): Rejeitamos H0 = a amostra provavelmente não é normal\n",
    "# Se o valor-p for maior que α (0.05): Não rejeitamos H0 = não temos evidência contra a normalidade."
   ]
  },
  {
   "cell_type": "code",
   "execution_count": 25,
   "metadata": {},
   "outputs": [
    {
     "name": "stdout",
     "output_type": "stream",
     "text": [
      "Amostra 0: \n",
      "p = 1.4234e-06\n",
      "A hipótese nula pode ser rejeitada. A amostra provavelmente NÃO é normal.\n",
      "\n",
      "Amostra 1:\n",
      "p = 0.000551341\n",
      "A hipótese nula pode ser rejeitada. A amostra provavelmente NÃO é normal.\n"
     ]
    }
   ],
   "source": [
    "import numpy as np\n",
    "from scipy.stats import normaltest\n",
    "\n",
    "def apply_normaltest(x):\n",
    "  k2, p = normaltest(x)\n",
    "  alpha = .05\n",
    "  print(\"p = {:g}\".format(p))\n",
    "\n",
    "  if p < alpha:  # H_0: x é proveniente de uma distribuição normal\n",
    "    print(\"A hipótese nula pode ser rejeitada. A amostra provavelmente NÃO é normal.\")\n",
    "  else:\n",
    "    print(\"A hipótese nula pode NÃO ser rejeitada. A amostra provavelmente é normal.\")\n",
    "\n",
    "amostra_0 = df['Old Score'] # antes\n",
    "amostra_1 = df['New Score '] # depois\n",
    "\n",
    "print('Amostra 0: ')\n",
    "apply_normaltest(amostra_0)\n",
    "print('\\nAmostra 1:')\n",
    "apply_normaltest(amostra_1)"
   ]
  },
  {
   "cell_type": "markdown",
   "metadata": {},
   "source": [
    "*Sua explicação aqui:*\n",
    "\n",
    "Para ambos os testes:\n",
    "- **H₀**: A amostra segue uma distribuição normal.  \n",
    "- **H₁**: A amostra não segue uma distribuição normal.\n",
    "\n",
    "No nosso caso, para ambos os testes, a hipótese nula pôde ser rejeitada. Há um indicio estatístico significativo para descartá-la, dado o seu valor-p calculado sendo muito abaixo de alpha = 0.05.\n",
    "\n",
    "1. teste shapiro-wilk:\n",
    "\n",
    "Amostra 'Old Score':\n",
    "valor-p = **2.26763e-05**\n",
    "A hipótese nula pode ser rejeitada. A amostra provavelmente NÃO é normal.\n",
    "\n",
    "Amostra 'New Score':\n",
    "valor-p = **0.000138904**\n",
    "A hipótese nula pode ser rejeitada. A amostra provavelmente NÃO é normal.\n",
    "\n",
    "2. teste D'agostino:\n",
    "\n",
    "Amostra 0: \n",
    "p = **1.4234e-06**\n",
    "A hipótese nula pode ser rejeitada. A amostra provavelmente NÃO é normal.\n",
    "\n",
    "Amostra 1:\n",
    "p = **0.000551341**\n",
    "A hipótese nula pode ser rejeitada. A amostra provavelmente NÃO é normal.\n",
    "\n",
    "\n",
    "\n",
    "---"
   ]
  },
  {
   "cell_type": "markdown",
   "metadata": {},
   "source": [
    "(ii) Agora, aplique o teste de hipóteses propriamente dito. Apresente e descreva claramente\n",
    "a aplicação dos quatro passos do procedimento. Repare que a variância da população\n",
    "não é conhecida. Sendo assim, certifique-se de usar o teste de hipóteses adequado para\n",
    "essa situação. Apresente sua análise para o nível de significância igual a 1%."
   ]
  },
  {
   "cell_type": "code",
   "execution_count": 28,
   "metadata": {},
   "outputs": [
    {
     "name": "stdout",
     "output_type": "stream",
     "text": [
      "tamanho da amostra > 30!\n",
      "n: 75\n",
      "Média das diferenças: 2.1333.\n",
      "Desvio padrão das diferenças: 2.6678.\n",
      "Valor do t-escore: 6.93\n",
      "p-value: 0.0000\n",
      "\n",
      "Há evidência para rejeitar a hipótese nula.\n",
      "p_value: 0.0000 menor que alpha: 0.01\n"
     ]
    }
   ],
   "source": [
    "import numpy as np\n",
    "from scipy.stats import t\n",
    "\n",
    "alpha = 0.01\n",
    "\n",
    "amostra_0 = df['Old Score'] # antes\n",
    "amostra_1 = df['New Score '] # depois\n",
    "\n",
    "delta = amostra_0 - amostra_1\n",
    "\n",
    "n = delta.shape[0]\n",
    "if n > 30:\n",
    "    print(\"tamanho da amostra > 30!\\nn: %d\" % n)\n",
    "\n",
    "nu = n - 1\n",
    "\n",
    "# estatística usada: t-score\n",
    "mu_d = 0\n",
    "\n",
    "x_bar_d = np.mean(delta)\n",
    "s_d = np.std(delta, ddof=1)\n",
    "\n",
    "print(\"Média das diferenças: %.4f.\" % x_bar_d)\n",
    "print(\"Desvio padrão das diferenças: %.4f.\" % s_d)\n",
    "\n",
    "t_d = (x_bar_d - mu_d)/(s_d/np.sqrt(n))\n",
    "\n",
    "print(\"Valor do t-escore: %.2f\" % t_d)\n",
    "\n",
    "# repare que é um teste bicaudal, logo multiplicamos por 2\n",
    "pvalue = 2 * t.cdf(-t_d, df=nu)\n",
    "\n",
    "print(\"p-value: %.4f\\n\" % pvalue)\n",
    "\n",
    "# Interpretar o resultado\n",
    "if pvalue < alpha:\n",
    "    print(\"Há evidência para rejeitar a hipótese nula.\")\n",
    "    print(f'p_value: {pvalue:.4f} menor que alpha: {alpha}')\n",
    "else:\n",
    "    print(\"Não há evidência para rejeitar a hipótese nula.\")\n",
    "    print(f'p_value: {pvalue:.4f} maior que alpha: {alpha}')"
   ]
  },
  {
   "cell_type": "markdown",
   "metadata": {},
   "source": [
    "*Sua explicação aqui:*\n",
    "\n",
    "Os 4 passos do procedimento a seguir:\n",
    "\n",
    "1. Formular as hipóteses nula e alternativa\n",
    "\n",
    "- **H₀**: O escore médio dos golfistas atual continua igual ao do passado (mu_d = 0). Ou seja, média da diferença entre o escore antigo e o novo igual a zero.\n",
    "- **H₁**: O escore médio dos golfistas atual não continua igual (mu_d != 0).\n",
    "\n",
    "Este é um teste **bilateral**.\n",
    "\n",
    "---\n",
    "\n",
    "2. Computar a estatística de teste (test statistic)\n",
    "\n",
    "Utilizamos o **teste t pareado**, visto que n>30. Média e desvio padrão estimados da amostra.\n",
    "\n",
    "\n",
    "---\n",
    "\n",
    "\n",
    "3. Computar o p-valor (p-value)\n",
    "\n",
    "Como é bilateral, podendo a diferença ser positiva ou negativa, multiplicamos por 2.\n",
    "\n",
    "`pvalue = 2 * t.cdf(-t_d, df=nu)`\n",
    "\n",
    "\n",
    "---\n",
    "\n",
    "\n",
    "4. Interpretar e declarar o resultado\n",
    "\n",
    "Como o p-valor é menor do que alpha, a hipótese nula PODE ser descartada. É significativo estatisticamente para conseguirmos contrariar **H₀**. Logo, podemos dizer que houve melhoria com a utilização dos tacos especiais, dado um nível de significância de 1%.\n",
    "\n",
    "\n",
    "---"
   ]
  },
  {
   "cell_type": "markdown",
   "metadata": {},
   "source": [
    "# (3) Transmissões: automática versus manual"
   ]
  },
  {
   "cell_type": "markdown",
   "metadata": {},
   "source": [
    "O conjunto de dados mtcars apresenta informações sobre modelos de carros. Esse conjunto\n",
    "de dados contém várias variáveis. Entretanto para essa parte do trabalho, duas delas são\n",
    "relevantes:\n",
    "\n",
    "• am - essa variável categórica indica o tipo de sistema de transmissão usado no modelo\n",
    "de automóvel (0 = automatic, 1 = manual). Com base nessa variável, podemos formar\n",
    "duas amostras independentes: veículos com transmissão automática e veículos com\n",
    "transmissão manual.\n",
    "\n",
    "• mpg (miles per gallon) — variável quantitativa contínua que mede o consumo de combustível,\n",
    "indicando quantas milhas o veículo percorre por galão de combustível. Valores\n",
    "maiores indicam maior eficiência energética.\n",
    "Utilizando essas informações, responda aos itens a seguir com base nos métodos estudados\n",
    "em aula.\n",
    "\n",
    "(i) Realize uma análise gráfica exploratória comparando o consumo médio de combustível\n",
    "dos dois grupos de veículos. Utilize ao menos dois tipos de gráfico (como boxplots e\n",
    "histogramas sobrepostos) e comente os padrões observados."
   ]
  },
  {
   "cell_type": "code",
   "execution_count": 29,
   "metadata": {},
   "outputs": [],
   "source": [
    "import pandas as pd\n",
    "\n",
    "filepath = 'mtcars.csv'\n",
    "\n",
    "df_completo = pd.read_csv(filepath, header=0)\n",
    "\n",
    "data = df_completo[['mpg','am']]"
   ]
  },
  {
   "cell_type": "code",
   "execution_count": 35,
   "metadata": {},
   "outputs": [
    {
     "name": "stderr",
     "output_type": "stream",
     "text": [
      "C:\\Users\\parai\\AppData\\Local\\Temp\\ipykernel_22872\\2097368763.py:4: SettingWithCopyWarning: \n",
      "A value is trying to be set on a copy of a slice from a DataFrame.\n",
      "Try using .loc[row_indexer,col_indexer] = value instead\n",
      "\n",
      "See the caveats in the documentation: https://pandas.pydata.org/pandas-docs/stable/user_guide/indexing.html#returning-a-view-versus-a-copy\n",
      "  data['transmission'] = data['am'].map({0: 'Automatic', 1: 'Manual'})\n"
     ]
    },
    {
     "data": {
      "image/png": "[encoded data removed]",
      "text/plain": [
       "<Figure size 800x500 with 1 Axes>"
      ]
     },
     "metadata": {},
     "output_type": "display_data"
    }
   ],
   "source": [
    "import seaborn as sns\n",
    "import matplotlib.pyplot as plt\n",
    "\n",
    "data['transmission'] = data['am'].map({0: 'Automatic', 1: 'Manual'})\n",
    "\n",
    "plt.figure(figsize=(8, 5))\n",
    "sns.boxplot(hue='transmission', y='mpg', data=data, palette='pastel')\n",
    "plt.title('Fuel Consumption (mpg) by Transmission Type')\n",
    "plt.xlabel('Transmission Type')\n",
    "plt.ylabel('Miles per Gallon (mpg)')\n",
    "plt.grid(True)\n",
    "plt.show()"
   ]
  },
  {
   "cell_type": "code",
   "execution_count": 36,
   "metadata": {},
   "outputs": [
    {
     "data": {
      "image/png": "[encoded data removed]",
      "text/plain": [
       "<Figure size 640x480 with 1 Axes>"
      ]
     },
     "metadata": {},
     "output_type": "display_data"
    }
   ],
   "source": [
    "import numpy as np\n",
    "\n",
    "# Separar os dados por tipo de transmissão \n",
    "auto = data[data['am'] == 0]['mpg']\n",
    "manual = data[data['am'] == 1]['mpg']\n",
    "\n",
    "\n",
    "# Combinar para encontrar um intervalo de bins comum\n",
    "combined = np.concatenate([auto, manual])\n",
    "\n",
    "# Definir bins em COMUM\n",
    "bins = np.histogram_bin_edges(combined, bins=20)\n",
    "\n",
    "# automatico\n",
    "plt.hist(auto, bins=bins, color=(0, 0, 1, 0.25), label='Automatic')\n",
    "\n",
    "# manual\n",
    "plt.hist(manual, bins=bins, color=(1, 0, 0, 0.25), label='Manual')\n",
    "\n",
    "plt.title('Histograma Sobreposto do Consumo de Combustível por Tipo de Transmissão')\n",
    "plt.xlabel('Miles per Gallon (mpg)')\n",
    "plt.ylabel('Frequency')\n",
    "plt.legend()\n",
    "plt.grid(True)\n",
    "plt.show()"
   ]
  },
  {
   "cell_type": "markdown",
   "metadata": {},
   "source": [
    "*Sua explicação aqui:*\n",
    "\n",
    "De uma maneira geral, ao observamos os 2 gráficos, perce-be que os carros manuais possuem um consumo de combustível menor, sob a perspectiva do mpg.\n",
    "\n",
    "No boxplot, vemos que o 3o quartil de 'mpg' para Automático está abaixo do 1o quartil para o Manual.\n",
    "\n",
    "No histograma, vemos que as barras em vermemlho (manual) se concentram mais para a direita, enquanto os que estão em azul (automático) se concentram mais para a esquerda.\n",
    "\n",
    "---"
   ]
  },
  {
   "cell_type": "markdown",
   "metadata": {},
   "source": [
    "(ii) Os procedimentos paramétricos de testes de hipóteses sobre duas amostras que estudamos\n",
    "em nosso curso presumem que as amostras a serem usadas são provenientes de uma\n",
    "distribuição aproximadamente normal. Para cada uma das amostras fornecidas, verifique\n",
    "essa hipótese usando dois dos testes de normalidades que estudamos no curso. Para isso,\n",
    "use um nível de significância igual a 5%."
   ]
  },
  {
   "cell_type": "code",
   "execution_count": 37,
   "metadata": {},
   "outputs": [
    {
     "name": "stdout",
     "output_type": "stream",
     "text": [
      "Amostra de mpg para automáticos (0):\n",
      "valor-p = 0.898736\n",
      "A hipótese nula pode NÃO ser rejeitada. A amostra provavelmente é normal.\n",
      "\n",
      "Amostra de mpg para manuais (1):\n",
      "valor-p = 0.536273\n",
      "A hipótese nula pode NÃO ser rejeitada. A amostra provavelmente é normal.\n"
     ]
    }
   ],
   "source": [
    "from scipy.stats import shapiro\n",
    "\n",
    "def apply_normaltest(x):\n",
    "  k2, p = shapiro(x)\n",
    "  alpha = .05\n",
    "  print(\"valor-p = {:g}\".format(p))\n",
    "\n",
    "  if p < alpha:  # H_0: x é proveniente de uma distribuição normal\n",
    "    print(\"A hipótese nula pode ser rejeitada. A amostra provavelmente NÃO é normal.\")\n",
    "  else:\n",
    "    print(\"A hipótese nula pode NÃO ser rejeitada. A amostra provavelmente é normal.\")\n",
    "\n",
    "\n",
    "\n",
    "grupo_auto = data[data['am'] == 0]['mpg']\n",
    "\n",
    "grupo_manual = data[data['am'] == 1]['mpg']\n",
    "\n",
    "\n",
    "print('Amostra de mpg para automáticos (0):')\n",
    "apply_normaltest(grupo_auto)\n",
    "\n",
    "print('\\nAmostra de mpg para manuais (1):')\n",
    "apply_normaltest(grupo_manual)\n",
    "\n",
    "# Se o valor-p for menor que α (0.05): Rejeitamos H0 = a amostra provavelmente não é normal\n",
    "# Se o valor-p for maior que α (0.05): Não rejeitamos H0 = não temos evidência contra a normalidade."
   ]
  },
  {
   "cell_type": "code",
   "execution_count": 38,
   "metadata": {},
   "outputs": [
    {
     "data": {
      "image/png": "[encoded data removed]",
      "text/plain": [
       "<Figure size 640x480 with 1 Axes>"
      ]
     },
     "metadata": {},
     "output_type": "display_data"
    },
    {
     "data": {
      "image/png": "[encoded data removed]",
      "text/plain": [
       "<Figure size 640x480 with 1 Axes>"
      ]
     },
     "metadata": {},
     "output_type": "display_data"
    }
   ],
   "source": [
    "import matplotlib.pyplot as plt\n",
    "from scipy import stats\n",
    "import numpy as np\n",
    "\n",
    "\n",
    "grupo_auto = data[data['am'] == 0]['mpg']\n",
    "\n",
    "grupo_manual = data[data['am'] == 1]['mpg']\n",
    "\n",
    "\n",
    "amostra_auto = np.sort(grupo_auto)\n",
    "amostra_manual = np.sort(grupo_manual)\n",
    "\n",
    "a = 0.05\n",
    "x_0 = phi_inversa(amostra_auto, a)\n",
    "x_1 = phi_inversa(amostra_manual, a)\n",
    "\n",
    "y_0 = amostra_auto\n",
    "y_1 = amostra_manual\n",
    "\n",
    "for i, (x, y) in enumerate(zip([x_0, x_1], [y_0, y_1])):\n",
    "    plt.xlabel('Quantis Teóricos', color='#1C2833')\n",
    "    plt.ylabel('Valores Ordenados', color='#1C2833')\n",
    "    plt.plot(x, y, 'o', label=f'Group {i+1}')\n",
    "    \n",
    "    # ajusta uma reta sobre os pontos da amostra para facilitar a inspeção visual.\n",
    "    slope, intercept, r_value, p_value, std_err = stats.linregress(x,y)\n",
    "    y = slope * x + intercept\n",
    "    plt.plot(x, y, '-r', label='y=2x+1')\n",
    "    plt.show()\n",
    "\n",
    "# scipy.stats.probplot(amostra, dist=\"norm\", plot=matplotlib.pyplot)"
   ]
  },
  {
   "cell_type": "markdown",
   "metadata": {},
   "source": [
    "*Sua explicação aqui:*\n",
    "\n",
    "O primeiro teste utilizado foi o Shapiro-Wilk e observamos que, dado um nível de significância de 5%, as duas amostras: **Miles per Galon para carros automáticos** e **Miles per Galon para carros manuais** seguem um padrão da distribuição normal. O valor-p calculado para a primeira amostra foi **0.89** e para a segunda foi de **0.53**. Dessa forma, a hipótese nula não pode ser descartada.\n",
    "\n",
    "O segundo teste utilizado foi o QQ-Plot e observamos, graficamente que, dado um nível de significância de 5%, os pontos da amostra seguem, em sua maioria os seus quantis teóricos.\n",
    "\n",
    "De uma maneira geral, observamos que a amostra do grupo manual possui uma maior variação dos dados, dando a entender que existe um padrão levemente diferente da distribuição normal.\n",
    "\n",
    "---"
   ]
  },
  {
   "cell_type": "markdown",
   "metadata": {},
   "source": [
    "(iii) Presumindo que os dados da coluna mpg seguem a distribuição normal, determine um\n",
    "intervalo de confiança no nível 95% da diferença entre as médias dos modelos de carros\n",
    "que possuem transmissão automática e os que possuem transmissão manual."
   ]
  },
  {
   "cell_type": "code",
   "execution_count": 39,
   "metadata": {},
   "outputs": [
    {
     "name": "stdout",
     "output_type": "stream",
     "text": [
      "Diferença das Médias: 7.244939271255056\n",
      "Intervalo de confiança (95%) para a diferença entre as médias: [3.21, 11.28]\n"
     ]
    }
   ],
   "source": [
    "import numpy as np\n",
    "import seaborn as sns\n",
    "import matplotlib.pyplot as plt\n",
    "from scipy import stats\n",
    "\n",
    "\n",
    "def graus_lib(n_1, s_1, n_2, s_2):\n",
    "  numerator = ((s_1*s_1)/n_1 + (s_2*s_2/n_2)) * ((s_1*s_1)/n_1 + ((s_2*s_2)/n_2))\n",
    "  denominator = ((s_1*s_1/n_1)*(s_1*s_1/n_1))/(n_1-1) + ((s_2*s_2/n_2)*(s_2*s_2/n_2))/(n_2-1)\n",
    "  return numerator / denominator\n",
    "\n",
    "def erro_padrao(n_1, s_1, n_2, s_2):\n",
    "  return np.sqrt((s_1*s_1)/n_1 + (s_2*s_2/n_2))\n",
    "\n",
    "\n",
    "\n",
    "\n",
    "grupo_auto = data[data['am'] == 0]['mpg']\n",
    "grupo_manual = data[data['am'] == 1]['mpg']\n",
    "\n",
    "# Stats\n",
    "x_bar_1 = np.mean(grupo_auto)\n",
    "s_1 = np.std(grupo_auto, ddof=1)\n",
    "x_bar_2 = np.mean(grupo_manual)\n",
    "s_2 = np.std(grupo_manual, ddof=1)\n",
    "n_1 = grupo_auto.shape[0]\n",
    "n_2 = grupo_manual.shape[0]\n",
    "\n",
    "\n",
    "# Diferença das médias\n",
    "mean_diff = x_bar_2 - x_bar_1\n",
    "print(f'Diferença das Médias: {mean_diff}')\n",
    "\n",
    "\n",
    "# erro padrão\n",
    "se = erro_padrao(n_1, s_1, n_2, s_2)\n",
    "# graus de liberdade\n",
    "df = graus_lib(n_1, s_1, n_2, s_2)\n",
    "\n",
    "\n",
    "# Intervalo de confiança\n",
    "t_crit = stats.t.ppf(0.975, df)\n",
    "ci_lower = mean_diff - t_crit * se\n",
    "ci_upper = mean_diff + t_crit * se\n",
    "\n",
    "print(f\"Intervalo de confiança (95%) para a diferença entre as médias: [{ci_lower:.2f}, {ci_upper:.2f}]\")\n",
    "\n",
    "\n"
   ]
  },
  {
   "cell_type": "markdown",
   "metadata": {},
   "source": [
    "*Sua explicação aqui:*\n",
    "\n",
    "**Confidence Interval**: (3.21, 11.28)\n",
    "\n",
    "**Diff_Mean (Manual - Automtics)**: 7.245\n",
    "\n",
    "Foi calculado os intervalos de confiança utilizando o intervalo de confiança desejado (95%) e os graus de liberdade (para amostras independentes) e com isso os 2 t_criticos associados. Por fim, podendo calcular o intervalo através da fórmula:\n",
    "\n",
    "ci_lower = mean_diff - t_crit * se (erro padrão para amostras independentes)\n",
    "ci_upper = mean_diff + t_crit * se\n",
    "\n",
    "\n",
    "Observa-se que a diferença entre as médias permanece positiva ao longo do ic de 95%, com uma média de 7.245. Isso indica que, em média, veículos com câmbio manual apresentam um consumo de combustível (medido em mpg) maior do que os veículos automáticos. Logo, há evidências de que o tipo de transmissão está associado a uma diferença significativa na eficiência de combustível.\n",
    "\n",
    "---"
   ]
  },
  {
   "cell_type": "markdown",
   "metadata": {},
   "source": [
    "(iv) Suponha que, ao analisar os dados fornecidos, alguém levantou a alegação de que carros\n",
    "automáticos e manuais não apresentam a mesma eficiência relativa a consumo de combustível.\n",
    "Em particular, existe a suspeita de que carros com transmissão manual consumem\n",
    "(em média) menos combustível que suas contra-partidas com transmissão automática.\n",
    "Aplique um teste de hipóteses para verificar essa suspeita. Apresente e descreva claramente\n",
    "a aplicação dos quatro passos do procedimento. Repare que são fornecidas duas\n",
    "amostras independentes. Sendo assim, certifique-se de usar o teste de hipóteses adequado\n",
    "para essa situação. Apresente sua análise para o nível de significância igual a 5%."
   ]
  },
  {
   "cell_type": "code",
   "execution_count": 5,
   "metadata": {},
   "outputs": [
    {
     "name": "stdout",
     "output_type": "stream",
     "text": [
      "Média grupo de automaticos: 17.1474.\n",
      "Desvio padrão (automaticos): 3.8340.\n",
      "\n",
      "Média grupo de manuais: 24.3923.\n",
      "Desvio padrão (manuais): 6.1665.\n",
      "\n",
      "Valor do t-escore: 3.7671\n",
      "Graus de liberdade: 18.33\n",
      "\n",
      "p-value: 0.0014\n",
      "\n",
      "Há evidência para rejeitar a hipótese nula.\n",
      "p_value: 0.0014 menor que alpha: 0.05\n"
     ]
    }
   ],
   "source": [
    "import numpy as np\n",
    "from scipy.stats import t\n",
    "\n",
    "\n",
    "\n",
    "alpha = 0.05\n",
    "\n",
    "grupo_auto = data[data['am'] == 0]['mpg']\n",
    "grupo_manual = data[data['am'] == 1]['mpg']\n",
    "\n",
    "\n",
    "n_1 = grupo_auto.shape[0]\n",
    "n_2 = grupo_manual.shape[0]\n",
    "\n",
    "x_bar_1 = np.mean(grupo_auto)\n",
    "s_1 = np.std(grupo_auto, ddof=1)\n",
    "\n",
    "x_bar_2 = np.mean(grupo_manual)\n",
    "s_2 = np.std(grupo_manual, ddof=1)\n",
    "\n",
    "print(\"Média grupo de automaticos: %.4f.\" % x_bar_1)\n",
    "print(\"Desvio padrão (automaticos): %.4f.\" % s_1)\n",
    "print()\n",
    "print(\"Média grupo de manuais: %.4f.\" % x_bar_2)\n",
    "print(\"Desvio padrão (manuais): %.4f.\" % s_2)\n",
    "\n",
    "se = erro_padrao(n_1, s_1, n_2, s_2)\n",
    "\n",
    "# Diferença das médias\n",
    "t_score = (x_bar_2 - x_bar_1)/se\n",
    "\n",
    "print(\"\\nValor do t-escore: %.4f\" % t_score)\n",
    "\n",
    "nu = graus_lib(n_1, s_1, n_2, s_2)\n",
    "\n",
    "print(\"Graus de liberdade: %.2f\" % nu)\n",
    "\n",
    "\n",
    "# repare que é um teste bicaudal\n",
    "pvalue = 2 * t.cdf(-t_score, df=nu)\n",
    "\n",
    "print(\"\\np-value: %.4f\" % pvalue)\n",
    "\n",
    "\n",
    "# Interpretar o resultado\n",
    "if pvalue < alpha:\n",
    "    print(\"\\nHá evidência para rejeitar a hipótese nula.\")\n",
    "    print(f'p_value: {pvalue:.4f} menor que alpha: {alpha}')\n",
    "else:\n",
    "    print(\"\\nNão há evidência para rejeitar a hipótese nula.\")\n",
    "    print(f'p_value: {pvalue:.4f} maior que alpha: {alpha}')\n"
   ]
  },
  {
   "cell_type": "markdown",
   "metadata": {},
   "source": [
    "*Sua explicação aqui:*\n",
    "\n",
    "Os 4 passos do procedimento a seguir:\n",
    "\n",
    "1. Formular as hipóteses nula e alternativa\n",
    "\n",
    "- **H₀**: carros automáticos e manuais apresentam a mesma eficiência relativa a consumo de combustível (mu_D == 0).\n",
    "- **H₁**: carros automáticos e manuais não apresentam a mesma eficiência relativa a consumo de combustível (mu_D != 0).\n",
    "\n",
    "Este é um teste **bilateral**.\n",
    "\n",
    "---\n",
    "\n",
    "2. Computar a estatística de teste (test statistic)\n",
    "\n",
    "Utilizamos o **teste t independente**, visto que as duas amostras são independentes (automáticos vs manuais).\n",
    "Este método é apropriado para tratar variâncias diferentes entre os grupos!\n",
    "\n",
    "\n",
    "---\n",
    "\n",
    "\n",
    "3. Computar o p-valor (p-value)\n",
    "\n",
    "Como é bilateral, podendo a diferença ser positiva ou negativa, multiplicamos por 2.\n",
    "\n",
    "`pvalue = 2 * t.cdf(-t_score, df=nu)`\n",
    "\n",
    "\n",
    "---\n",
    "\n",
    "\n",
    "4. Interpretar e declarar o resultado\n",
    "\n",
    "Como o p-valor (0.0014) é menor do que alpha (0.05), a hipótese nula PODE ser descartada. É significativo estatisticamente para conseguirmos contrariar **H₀**.\n",
    "\n",
    "\n",
    "\n",
    "---"
   ]
  },
  {
   "cell_type": "markdown",
   "metadata": {},
   "source": [
    "# (4) Teste ANOVA"
   ]
  },
  {
   "cell_type": "markdown",
   "metadata": {},
   "source": [
    "### 4.1 Situação-problema I\n",
    "Nesta parte, você deve estudar as condições que permitem usar o método de análise de variância\n",
    "(ANOVA) para determinar se um grupo de populações tem uma média comum. Os dados\n",
    "apresentados nas figuras 1, 2 e 3 correspondem às estimativas de milhas percorridas por galão\n",
    "obtidas para amostras de modelos de carros de 1993, conforme relatado pelo Consumer Reports:\n",
    "The 1993 Cars - Annual Auto Issue (abril de 1993).\n",
    "\n",
    "(i) Se uma ou mais das amostras não passam no teste de normalidade, então não podemos\n",
    "usar o método ANOVA. Sendo assim, antes de poder usar esse teste, você deve verificar as\n",
    "condições de aplicabilidade dele. Primeiro verifique, se as amostras são aproximadamente\n",
    "normalmente distribuídas. Em seguida, usando o teste de Levene, verifique se as amostras\n",
    "possuem variâncias iguais do ponto de vista estatístico.\n"
   ]
  },
  {
   "cell_type": "code",
   "execution_count": 40,
   "metadata": {},
   "outputs": [
    {
     "name": "stdout",
     "output_type": "stream",
     "text": [
      "p = 0.236816\n",
      "Não há evidência estatística suficiente para rejeitar a hipótese nula\n",
      "p = 0.577089\n",
      "Não há evidência estatística suficiente para rejeitar a hipótese nula\n",
      "p = 0.792345\n",
      "Não há evidência estatística suficiente para rejeitar a hipótese nula\n"
     ]
    },
    {
     "name": "stderr",
     "output_type": "stream",
     "text": [
      "c:\\Users\\parai\\anaconda3\\Lib\\site-packages\\scipy\\stats\\_axis_nan_policy.py:531: UserWarning: kurtosistest only valid for n>=20 ... continuing anyway, n=16\n",
      "  res = hypotest_fun_out(*samples, **kwds)\n"
     ]
    }
   ],
   "source": [
    "import numpy as np\n",
    "from scipy import stats\n",
    "\n",
    "compactos = np.array ([20, 25, 25, 20, 22, 22, 24, 26, 20, 24, 24, 23, 20,\n",
    "23, 21, 21])\n",
    "medios = np.array ([18, 19, 22, 22, 19, 16, 21, 21, 21, 20,17, 18, 18, 17,\n",
    "19, 19, 18, 21, 23, 19, 22, 20])\n",
    "grandes = np.array ([19, 16, 16, 17, 20, 20, 20, 18, 18, 19, 19, 15, 18,\n",
    "17, 15, 18, 17, 18, 18, 17])\n",
    "\n",
    "\n",
    "def apply_normal_test(x, alpha):\n",
    "    k2, p = stats.normaltest(x)\n",
    "    \n",
    "    print(\"p = {:g}\".format(p))\n",
    "    \n",
    "    if p < alpha:\n",
    "        print(\"A hipótese nula pode ser rejeitada\")\n",
    "    else:\n",
    "        print(\"Não há evidência estatística suficiente para rejeitar a hipótese nula\")\n",
    "        \n",
    "alpha = 0.05\n",
    "apply_normal_test(compactos, alpha)\n",
    "apply_normal_test(medios, alpha)\n",
    "apply_normal_test(grandes, alpha)"
   ]
  },
  {
   "cell_type": "code",
   "execution_count": 41,
   "metadata": {},
   "outputs": [
    {
     "name": "stdout",
     "output_type": "stream",
     "text": [
      "p = 0.185309\n",
      "Não há evidência estatística suficiente para rejeitar a hipótese nula\n"
     ]
    }
   ],
   "source": [
    "from scipy.stats import levene\n",
    "\n",
    "# testa a hipótese nula de que todos os grupos têm variâncias iguais\n",
    "# calcula o desvio em relação à média (por isso center = 'mean')\n",
    "stat, p = levene(compactos, medios, grandes, center = 'mean')\n",
    "print(\"p = {:g}\".format(p))\n",
    "\n",
    "alpha = 0.05\n",
    "\n",
    "if p < alpha:\n",
    "    print(\"A hipótese nula pode ser rejeitada\")\n",
    "else:\n",
    "    print(\"Não há evidência estatística suficiente para rejeitar a hipótese nula\")\n"
   ]
  },
  {
   "cell_type": "markdown",
   "metadata": {},
   "source": [
    "*Sua explicação aqui:*\n",
    "\n",
    "1. Teste de normalidade:\n",
    "\n",
    "A primeira condição para podermos aplicar o teste ANOVA envolve verificar se as distribuições sendo estudadas são normais ou aproximadamente normais. Para isso, do pacote scipy.stats, temos a função que que avalia a normalidade com base na assimetria e curtose da distribuição:\n",
    "\n",
    "`k2, p = stats.normaltest(x)`\n",
    "\n",
    "Nesse caso, todos os p_values foram maiores que o nível de significancia de 0.05, ou seja, não rejeitamos a hipótese nula (todas as distribuições normais).\n",
    "\n",
    "2. Teste de levene:\n",
    "\n",
    "A segunda condição para a ANOVA é a homogeneidade das variâncias, ou seja, que todos os grupos tenham variâncias aproximadamente iguais. Para verificar isso, usamos o teste de Levene, que testa a hipótese nula de igualdade das variâncias. Ele calcula os desvios absolutos em relação à média (por isso center='mean'):\n",
    "\n",
    "`levene(grupo1, grupo2, grupo3, center='mean')`\n",
    "\n",
    "Como o p-valor foi maior que 0,05, não rejeitamos a hipótese nula, o que indica que os grupos apresentam variâncias aproximadamente iguais.\n",
    "\n",
    "---"
   ]
  },
  {
   "cell_type": "markdown",
   "metadata": {},
   "source": [
    "(ii) Agora que você verificou as condições aplicabilidade do ANOVA, aplique esse teste para\n",
    "verificar a hipótese nula de que as três populações têm médias estatisticamente iguais.\n",
    "Declare as hipóteses nula e alternativa. A seguir, descreva sua conclusão. Use nível de\n",
    "significância de 5%."
   ]
  },
  {
   "cell_type": "code",
   "execution_count": 11,
   "metadata": {},
   "outputs": [
    {
     "name": "stdout",
     "output_type": "stream",
     "text": [
      "f_value = 30.6432\n",
      "p = 1.14267e-09\n",
      "A hipótese nula pode ser rejeitada\n"
     ]
    }
   ],
   "source": [
    "from scipy.stats import f_oneway\n",
    "\n",
    "f_value, p = f_oneway(compactos, medios, grandes)\n",
    "\n",
    "print(\"f_value = {:g}\".format(f_value))\n",
    "print(\"p = {:g}\".format(p))\n",
    "\n",
    "if p < alpha:\n",
    "    print(\"A hipótese nula pode ser rejeitada\")\n",
    "else:\n",
    "    print(\"Não há evidência estatística suficiente para rejeitar a hipótese nula\")"
   ]
  },
  {
   "cell_type": "code",
   "execution_count": 42,
   "metadata": {},
   "outputs": [
    {
     "data": {
      "image/png": "[encoded data removed]",
      "text/plain": [
       "<Figure size 640x480 with 1 Axes>"
      ]
     },
     "metadata": {},
     "output_type": "display_data"
    }
   ],
   "source": [
    "import numpy as np\n",
    "import matplotlib.pyplot as plt\n",
    "from scipy.stats import f\n",
    "\n",
    "# Graus de liberdade\n",
    "df_between = 2  # número de grupos - 1\n",
    "df_within = len(compactos) + len(medios) + len(grandes) - 3  # total num de amostras - número de grupos\n",
    "\n",
    "x = np.linspace(0, 10, 500) \n",
    "y = f.pdf(x, df_between, df_within)\n",
    "\n",
    "plt.plot(x, y, label='Distribuição F')\n",
    "plt.title('Distribuição F da ANOVA')\n",
    "plt.xlabel('Valor F')\n",
    "plt.ylabel('Densidade de probabilidade')\n",
    "plt.legend()\n",
    "plt.grid(True)\n",
    "plt.show()\n"
   ]
  },
  {
   "cell_type": "markdown",
   "metadata": {},
   "source": [
    "O teste ANOVA possui uma função implementada do pacote scipy.stats `f_oneway` que retorna o valor F e o valor p associado, passando como parâmetro os 3 grupos sendo estudados.\n",
    "\n",
    "Vemos pelo gráfico acima que o valor F já chega próximo ao 0 até o valor F = 10. No nosso caso, o valor F retornou 30,6432. Visto isso, o p_valor associado é muito próximo de 0, sendo bem menor que o nível de significância de 0.05.\n",
    "\n",
    "Desta forma, podemos rejeitar a hipótese nula de que as três amostras possuem médias iguais. Sendo assim, pelo menos um dos tipos de carros (compactos, médios e grandes) possui média de consumo de km/L diferente.\n",
    "\n",
    "---"
   ]
  },
  {
   "cell_type": "markdown",
   "metadata": {},
   "source": [
    "### 4.2 Situação-problema II\n",
    "\n",
    "Em http://www.flatworldknowledge.com/sites/all/files/data9.xls, você encontra dados\n",
    "que registram os custos dos materiais (livro didático, manual de solução, taxas de laboratório\n",
    "e assim por diante) em cada um dos dez cursos diferentes em cada um dos três assuntos\n",
    "diferentes, química, ciência da computação e matemática. Verifique, ao nível de significância de 1%, se os dados fornecem evidências suficientes para concluir que os custos médios nas três\n",
    "disciplinas não são todos iguais. Apresente os detalhes de aplicação todos os quatro passos do\n",
    "teste de hipóteses."
   ]
  },
  {
   "cell_type": "code",
   "execution_count": 43,
   "metadata": {},
   "outputs": [
    {
     "name": "stdout",
     "output_type": "stream",
     "text": [
      "p = 0.118565\n",
      "Não há evidência estatística suficiente para rejeitar a hipótese nula\n",
      "p = 0.0465234\n",
      "Não há evidência estatística suficiente para rejeitar a hipótese nula\n",
      "p = 0.454288\n",
      "Não há evidência estatística suficiente para rejeitar a hipótese nula\n"
     ]
    },
    {
     "name": "stderr",
     "output_type": "stream",
     "text": [
      "c:\\Users\\parai\\anaconda3\\Lib\\site-packages\\scipy\\stats\\_axis_nan_policy.py:531: UserWarning: kurtosistest only valid for n>=20 ... continuing anyway, n=10\n",
      "  res = hypotest_fun_out(*samples, **kwds)\n"
     ]
    }
   ],
   "source": [
    "import pandas as pd\n",
    "\n",
    "path = 'data9.xls'\n",
    "data = pd.read_excel(path)\n",
    "\n",
    "\n",
    "# Usar slicing no dataframe \n",
    "math = pd.to_numeric(data.iloc[:10, 1])\n",
    "comp = pd.to_numeric(data.iloc[10:20, 1])\n",
    "chem = pd.to_numeric(data.iloc[20:30, 1])\n",
    "\n",
    "alpha = 0.01\n",
    "\n",
    "apply_normal_test(math, alpha)\n",
    "apply_normal_test(comp, alpha)\n",
    "apply_normal_test(chem, alpha)\n",
    "\n",
    "#data_crosstab = pd.crosstab(data, columns='MATH')"
   ]
  },
  {
   "cell_type": "code",
   "execution_count": 44,
   "metadata": {},
   "outputs": [
    {
     "name": "stdout",
     "output_type": "stream",
     "text": [
      "p = 0.943731\n",
      "Não há evidência estatística suficiente para rejeitar a hipótese nula\n"
     ]
    }
   ],
   "source": [
    "from scipy.stats import levene\n",
    "\n",
    "# testa a hipótese nula de que todos os grupos têm variâncias iguais\n",
    "# calcula o desvio em relação à média (por isso center = 'mean')\n",
    "stat, p = levene(math, comp, chem, center = 'mean')\n",
    "print(\"p = {:g}\".format(p))\n",
    "\n",
    "alpha = 0.01\n",
    "\n",
    "if p < alpha:\n",
    "    print(\"A hipótese nula pode ser rejeitada\")\n",
    "else:\n",
    "    print(\"Não há evidência estatística suficiente para rejeitar a hipótese nula\")\n"
   ]
  },
  {
   "cell_type": "code",
   "execution_count": 46,
   "metadata": {},
   "outputs": [
    {
     "name": "stdout",
     "output_type": "stream",
     "text": [
      "f_value = 1.41805\n",
      "p = 0.259654\n",
      "Não há evidência estatística suficiente para rejeitar a hipótese nula\n"
     ]
    }
   ],
   "source": [
    "from scipy.stats import f_oneway\n",
    "\n",
    "f_value, p = f_oneway(math, comp, chem)\n",
    "\n",
    "alpha = 0.01\n",
    "\n",
    "print(\"f_value = {:g}\".format(f_value))\n",
    "print(\"p = {:g}\".format(p))\n",
    "\n",
    "if p < alpha:\n",
    "    print(\"A hipótese nula pode ser rejeitada\")\n",
    "else:\n",
    "    print(\"Não há evidência estatística suficiente para rejeitar a hipótese nula\")"
   ]
  },
  {
   "cell_type": "code",
   "execution_count": 47,
   "metadata": {},
   "outputs": [
    {
     "data": {
      "image/png": "[encoded data removed]",
      "text/plain": [
       "<Figure size 640x480 with 1 Axes>"
      ]
     },
     "metadata": {},
     "output_type": "display_data"
    }
   ],
   "source": [
    "import numpy as np\n",
    "import matplotlib.pyplot as plt\n",
    "from scipy.stats import f\n",
    "\n",
    "# Graus de liberdade\n",
    "df_between = 2  # número de grupos (math, comp, chem) - 1\n",
    "df_within = len(math) + len(comp) + len(chem) - 3  # total de amostras - número de grupos\n",
    "\n",
    "x = np.linspace(0, 10, 500)\n",
    "y = f.pdf(x, df_between, df_within) # função de densidade de probabilidade para o valor F \n",
    "\n",
    "plt.plot(x, y, label='Distribuição F')\n",
    "plt.axvline(f_value, color='red', linestyle='--', label=f'Estatística F = {f_value:.2f}')\n",
    "plt.title('Distribuição F da ANOVA')\n",
    "plt.xlabel('Valor F')\n",
    "plt.ylabel('Densidade de probabilidade')\n",
    "plt.legend()\n",
    "plt.grid(True)\n",
    "plt.show()\n"
   ]
  },
  {
   "cell_type": "markdown",
   "metadata": {},
   "source": [
    "*Sua explicação aqui:*\n",
    "\n",
    "Primeiramente, realizamos a verificação das condições de aplicação do teste ANOVA, o normaltest e o teste de levene.\n",
    "\n",
    "1. Teste de normalidade:\n",
    "Dentro do nível de significância de 0.01, as amostras seguem uma distribuição aproximadamente normal:\n",
    "    - p = 0.118565\n",
    "    - p = 0.0465234\n",
    "    - p = 0.454288\n",
    "\n",
    "    Não há evidência estatística suficiente para rejeitar a hipótese nula (distribuição não é normal)\n",
    "\n",
    "2. Teste de levene:\n",
    "Dentro do nível de significância de 0.01, todos os grupos possuem variâncias aproximadamente iguais:\n",
    "    - p = 0.943731\n",
    "\n",
    "    Não há evidência estatística suficiente para rejeitar a hipótese nula (igualdade das variâncias entre os grupos)\n",
    "\n",
    "3. Aplicação do teste ANOVA:\n",
    "Dentro do nível de significância de 0.01, todos os grupos (MATH, COMP e CHEM) possuem custos médios nas três\n",
    "disciplinas iguais\n",
    "    - f_value = 1.41805\n",
    "    - p = 0.259654\n",
    "\n",
    "    Logo, não há evidência estatística suficiente para rejeitar a hipótese nula (custos médios nas três disciplinas são todos iguais).\n",
    "\n",
    "---"
   ]
  },
  {
   "cell_type": "markdown",
   "metadata": {},
   "source": [
    "# (5) Testes Qui-quadrado"
   ]
  },
  {
   "cell_type": "markdown",
   "metadata": {},
   "source": [
    "### 5.1 Distribuição χ2\n",
    "\n",
    "Suponha que uma variável aleatória Y siga a distribuição χ2 com k graus de liberdade, isto é,\n",
    "Y ∼ χ2_(k). Por meio das funções apropriadas de R ou de Python, compute o que se pede a\n",
    "seguir. Considere que k = 13.\n",
    "\n",
    "(i) Pr(Y > 2.56)\n",
    "\n",
    "(ii) Pr(2.56 < Y < 4.87)\n",
    "\n",
    "(iii) O valor de y tal que Pr(Y < y) = 0.95"
   ]
  },
  {
   "cell_type": "code",
   "execution_count": 3,
   "metadata": {},
   "outputs": [
    {
     "name": "stdout",
     "output_type": "stream",
     "text": [
      "Pr(Y > 2.56) = 0.9991\n",
      "\n",
      "Pr(2.56 < Y < 4.87) = 0.0212\n",
      "\n",
      "Pr(Y < y) = 0.95. y = 22.3620\n"
     ]
    }
   ],
   "source": [
    "from scipy.stats import chi2\n",
    "\n",
    "p_i = 1 - chi2.cdf(2.56, df=13)\n",
    "print(f\"Pr(Y > 2.56) = {p_i:.4f}\")\n",
    "\n",
    "p_ii = chi2.cdf(4.87, df=13) - chi2.cdf(2.56, df=13)\n",
    "print(f\"\\nPr(2.56 < Y < 4.87) = {p_ii:.4f}\")\n",
    "\n",
    "y_95 = chi2.ppf(0.95, df=13)\n",
    "print(f\"\\nPr(Y < y) = 0.95. y = {y_95:.4f}\")"
   ]
  },
  {
   "cell_type": "markdown",
   "metadata": {},
   "source": [
    "*Sua explicação aqui:*\n",
    "\n",
    "(i) **Pr(Y > 2.56)**: probabilidade *p_i*, onde Y > 2.56 (área à direita da curva). Logo, calcular 1 - chi2.cdf(Y, df=13).\n",
    "\n",
    "(ii) **Pr(2.56 < Y < 4.87)**: probabilidade *p_ii*, onde 2.56 < Y < 4.87 (área entre dois pontos debaixo da curva).\n",
    "\n",
    "(iii) **O valor de y tal que Pr(Y < y) = 0.95**: ponto cuja área à esquerda corresponde área de 0.95.\n",
    "\n",
    "---"
   ]
  },
  {
   "cell_type": "markdown",
   "metadata": {},
   "source": [
    "### 5.2 Teste χ2 (situação-problema I)\n",
    "\n",
    "Considere novamente o conjunto de dados denominado mtcars. Para este conjunto de dados,\n",
    "descubra se as variáveis cyl e carb são ou não dependentes. Para isso, utilize o teste χ2.\n",
    "Apresente o desenvolvimento, isto é, os comandos em R ou Python que você utilizou para\n",
    "chegar à conclusão."
   ]
  },
  {
   "cell_type": "code",
   "execution_count": 48,
   "metadata": {},
   "outputs": [
    {
     "name": "stdout",
     "output_type": "stream",
     "text": [
      "\n",
      "Estatística do qui-quadrado: 24.38886827458256\n",
      "\n",
      "Valor-p: 0.006632477762992059\n",
      "\n",
      "Graus de liberdade: 10\n",
      "\n",
      "Frequências esperadas sob H0:\n",
      "carb        1       2        3       4        6        8\n",
      "0     2.40625  3.4375  1.03125  3.4375  0.34375  0.34375\n",
      "1     1.53125  2.1875  0.65625  2.1875  0.21875  0.21875\n",
      "2     3.06250  4.3750  1.31250  4.3750  0.43750  0.43750\n"
     ]
    }
   ],
   "source": [
    "import pandas as pd\n",
    "from scipy.stats import chi2_contingency\n",
    "import pandas as pd\n",
    "\n",
    "\n",
    "path = 'mtcars.csv'\n",
    "df = pd.read_csv(path, header=0, delimiter = ',')\n",
    "\n",
    "# tabela de contingência usando o método do pandas\n",
    "# colunas = 'cyl'\n",
    "# linhas = 'carb'\n",
    "contingency_table = pd.crosstab(df['cyl'], df['carb'])\n",
    "\n",
    "# Aplicar o teste qui-quadrado\n",
    "chi2_stat, p_val, dof, expected = chi2_contingency(contingency_table)\n",
    "\n",
    "print(\"\\nEstatística do qui-quadrado:\", chi2_stat)\n",
    "print(\"\\nValor-p:\", p_val)\n",
    "print(\"\\nGraus de liberdade:\", dof)\n",
    "print(\"\\nFrequências esperadas sob H0:\")\n",
    "print(pd.DataFrame(expected, columns=contingency_table.columns).head())\n"
   ]
  },
  {
   "cell_type": "code",
   "execution_count": 49,
   "metadata": {},
   "outputs": [
    {
     "name": "stdout",
     "output_type": "stream",
     "text": [
      "Número de células com frequência esperada < 1: 7 de 18\n",
      "Número de células com frequência esperada < 5: 18 de 18\n",
      "Percentual de células com frequência esperada < 5: 100.0%\n"
     ]
    }
   ],
   "source": [
    "# Verificar Condições de Aplicabilidade - cyl e carb\n",
    "\n",
    "\n",
    "# 1. Variáveis categóricas?\n",
    "# cyl (número de cilindros): assume valores discretos categóricos\n",
    "# carb (número de carburadores): também assume valores discretos categóricos\n",
    "\n",
    "# 2. Independência das observações\n",
    "# cada linha do dataset mtcars representam unidades diferentes (carros distintos)\n",
    "\n",
    "# 3. Frequências esperadas razoavelmente grandes\n",
    "import numpy as np\n",
    "\n",
    "# Flatten a matriz de frequências esperadas\n",
    "flat_expected = expected.flatten()\n",
    "less_than_5 = np.sum(flat_expected < 5)\n",
    "less_than_1 = np.sum(flat_expected < 1)\n",
    "total_cells = flat_expected.size\n",
    "\n",
    "percent_below_5 = 100 * less_than_5 / total_cells\n",
    "print(f\"Número de células com frequência esperada < 1: {less_than_1} de {total_cells}\")\n",
    "print(f\"Número de células com frequência esperada < 5: {less_than_5} de {total_cells}\")\n",
    "print(f\"Percentual de células com frequência esperada < 5: {percent_below_5:.1f}%\")\n",
    "\n",
    "# regra prática:\n",
    "# Nenhuma célula com frequência esperada < 1.\n",
    "# No máximo 20% das células com frequência esperada < 5."
   ]
  },
  {
   "cell_type": "markdown",
   "metadata": {},
   "source": [
    "*Sua explicação aqui:*\n",
    "\n",
    "O objetivo do teste é para verificar se as variáveis cyl e carb são ou não dependentes.\n",
    "\n",
    "1. Formular as hipóteses nula e alternativa\n",
    "\n",
    "- **H₀**: As variáveis cyl e carb são independentes.\n",
    "- **H₁**: As variáveis são associadas (dependentes) uma a outra.\n",
    "\n",
    "2. Montar a tabela de contingência\n",
    "\n",
    "O pacote Pandas fornece a função crosstab, usada para montar a tabela de contingência para a aplicação posterior do teste X².\n",
    "\n",
    "3. Estabelecer o teste de estatistica\n",
    "\n",
    "O pacote scipy.stats fornece a implementação do Qui_quadrado `chi2_contingency(contingency_table)`, que já encapsula a lógica do teste e só é preciso passar como parâmetro a tabela de contingência. Ela irá retornar `chi2_stat, p_val, dof, expected`, o valor da estatística, o p-valor, o grau de liberdade e o valor esperado da tabela passada.\n",
    "\n",
    "4. Resultado final\n",
    "\n",
    "Como o p-valor = 0.0066, foi muito menor que o alpha = 0.05, podemos descartar a hipótese nula. Ou seja, há evidência significativa de que as variáveis cyl e carb são dependentes.\n",
    "\n",
    "---\n"
   ]
  },
  {
   "cell_type": "markdown",
   "metadata": {},
   "source": [
    "### 5.3 Teste χ2 (situação-problema II)\n",
    "\n",
    "A fabricante das balinhas Zuzuba produz balinhas de diferentes cores. Esse fabricante alega\n",
    "que cada pacote produzido contém quantidades de balinhas de cada cor que não diferem significativamente\n",
    "das que são apresentadas na segunda coluna da tabela Tabela 1. Para testar\n",
    "essa alegação, um auditor comprou um pacote de Zuzubas em uma loja perto de sua casa e\n",
    "contou as quantidades de cada cor. Os dados levantados pelo auditor estão na terceira coluna\n",
    "da Tabela 1. Se o fabricante estiver correto, então não deve haver diferença significativa entre\n",
    "as quantidades de diversas cores de Zuzubas que ela alega depositar em cada pacote e as\n",
    "quantidades que o auditor encontrou.\n",
    "\n",
    "cor | esperado | observado\n",
    "--- | --- | ---\n",
    "vermelho | 18 | 24\n",
    "verde | 19 | 16\n",
    "roxo | 16 | 13\n",
    "azul | 6 | 20\n",
    "laranja | 24 | 20\n",
    "amarelo | 17 | 14\n",
    "\n",
    "(i) Utilizando o R ou Python, apresente dois gráficos de setores (pie charts), um para as\n",
    "quantidades esperadas e outro para as quantidades observadas de cores."
   ]
  },
  {
   "cell_type": "code",
   "execution_count": 50,
   "metadata": {},
   "outputs": [
    {
     "data": {
      "image/png": "[encoded data removed]",
      "text/plain": [
       "<Figure size 600x600 with 1 Axes>"
      ]
     },
     "metadata": {},
     "output_type": "display_data"
    },
    {
     "data": {
      "image/png": "[encoded data removed]",
      "text/plain": [
       "<Figure size 600x600 with 1 Axes>"
      ]
     },
     "metadata": {},
     "output_type": "display_data"
    }
   ],
   "source": [
    "import matplotlib.pyplot as plt\n",
    "import numpy as np\n",
    "\n",
    "esperado = np.array([18,19,16,6,24,17])\n",
    "observado = np.array([24,16,13,20,20,14])\n",
    "cores = [[255, 17, 0], [0, 255, 51], [161, 5, 245], [0, 128, 255], [255, 119, 0], [255, 251, 0]]\n",
    "\n",
    "# Normalizar as cores para o formato matplotlib (0-1)\n",
    "cores_norm = np.array(cores) / 255\n",
    "\n",
    "# Pie chart para 'esperado'\n",
    "plt.figure(figsize=(6, 6))\n",
    "plt.pie(esperado, colors=cores_norm, autopct='%1.1f%%')\n",
    "plt.title('Distribuição Esperada de Cores')\n",
    "plt.show()\n",
    "\n",
    "# Pie chart para 'observado'\n",
    "plt.figure(figsize=(6, 6))\n",
    "plt.pie(observado, colors=cores_norm, autopct='%1.1f%%')\n",
    "plt.title('Distribuição Observada de Cores')\n",
    "plt.show()\n"
   ]
  },
  {
   "cell_type": "markdown",
   "metadata": {},
   "source": [
    "(ii) Também utilizando R ou Python, teste a hipótese nula de que a alegação do fabricante é\n",
    "verdadeira, usando nível de significância α = 0,05. Apresente os seguintes valores: graus\n",
    "de liberdade, valor da estatística e o valor-p. Apresente também a sua conclusão, contra\n",
    "ou a favor da hipótese nula, justificando sua resposta."
   ]
  },
  {
   "cell_type": "code",
   "execution_count": 51,
   "metadata": {},
   "outputs": [
    {
     "name": "stdout",
     "output_type": "stream",
     "text": [
      "\n",
      "Estatística do qui-quadrado: 9.391075218545035\n",
      "\n",
      "Valor-p: 0.09444595280621262\n",
      "\n",
      "Graus de liberdade: 5\n",
      "\n",
      "Frequências esperadas sob H0:\n",
      "    Esperado  Observado\n",
      "0  20.289855  21.710145\n",
      "1  16.908213  18.091787\n",
      "2  14.009662  14.990338\n",
      "3  12.560386  13.439614\n",
      "4  21.256039  22.743961\n",
      "Não há evidências para rejeitar hipótese nula (p_valor > α)\n"
     ]
    }
   ],
   "source": [
    "from scipy.stats import chi2_contingency\n",
    "import pandas as pd\n",
    "import numpy as np\n",
    "\n",
    "\n",
    "cores_nome = [\"vermelho\", \"verde\", \"roxo\", \"azul\", \"laranja\", \"amarelo\"]\n",
    "esperado = np.array([18,19,16,6,24,17])\n",
    "observado = np.array([24,16,13,20,20,14])\n",
    "\n",
    "contingency_table = pd.DataFrame({'Esperado': esperado, 'Observado': observado}, index=cores_nome)\n",
    "\n",
    "\n",
    "# Aplicar o teste qui-quadrado\n",
    "chi2_stat, p_val, dof, expected = chi2_contingency(contingency_table)\n",
    "\n",
    "print(\"\\nEstatística do qui-quadrado:\", chi2_stat)\n",
    "print(\"\\nValor-p:\", p_val)\n",
    "print(\"\\nGraus de liberdade:\", dof)\n",
    "print(\"\\nFrequências esperadas sob H0:\")\n",
    "print(pd.DataFrame(expected, columns=contingency_table.columns).head())\n",
    "\n",
    "if (p_val < 0.05):\n",
    "    print(\"Rejeitamos a Hipotese nula (p_valor < α)\")\n",
    "else:\n",
    "    print(\"Não há evidências para rejeitar hipótese nula (p_valor > α)\")\n",
    "\n",
    "\n"
   ]
  },
  {
   "cell_type": "code",
   "execution_count": 52,
   "metadata": {},
   "outputs": [
    {
     "name": "stdout",
     "output_type": "stream",
     "text": [
      "Número de células com frequência esperada < 1: 0 de 12\n",
      "Número de células com frequência esperada < 5: 0 de 12\n",
      "Percentual de células com frequência esperada < 5: 0.0%\n"
     ]
    }
   ],
   "source": [
    "# Verificar Condições de Aplicabilidade - zuzubas\n",
    "\n",
    "\n",
    "# 1. Variáveis categóricas?\n",
    "# Uma única variável categórica (cor).\n",
    "\n",
    "# 2. Independência das observações\n",
    "# Cada contagem (frequência observada) deve vir de observações independentes\n",
    "\n",
    "# 3. Frequências esperadas razoavelmente grandes\n",
    "import numpy as np\n",
    "\n",
    "# Flatten a matriz de frequências esperadas\n",
    "flat_expected = expected.flatten()\n",
    "less_than_5 = np.sum(flat_expected < 5)\n",
    "less_than_1 = np.sum(flat_expected < 1)\n",
    "total_cells = flat_expected.size\n",
    "\n",
    "percent_below_5 = 100 * less_than_5 / total_cells\n",
    "print(f\"Número de células com frequência esperada < 1: {less_than_1} de {total_cells}\")\n",
    "print(f\"Número de células com frequência esperada < 5: {less_than_5} de {total_cells}\")\n",
    "print(f\"Percentual de células com frequência esperada < 5: {percent_below_5:.1f}%\")\n",
    "\n",
    "# regra prática:\n",
    "# Nenhuma célula com frequência esperada < 1.\n",
    "# No máximo 20% das células com frequência esperada < 5.\n",
    "\n",
    "# Sim, frequências esperadas razoavelmente grandes."
   ]
  },
  {
   "cell_type": "markdown",
   "metadata": {},
   "source": [
    "*Sua explicação aqui:*\n",
    "\n",
    "1. Formular as hipóteses nula e alternativa\n",
    "\n",
    "- **H₀**: Não há diferença significativa entre as quantidades de diversas cores de Zuzubas em cada pacote.\n",
    "- **H₁**: Há diferença significativa entre as quantidades diversas de cores de Zuzubas.\n",
    "\n",
    "\n",
    "2. Montar a tabela de contingência\n",
    "\n",
    "Criamos um pd.DataFrame para elaborar nossa tabela de contingência manualmente.\n",
    "\n",
    "3. Estabelecer o teste de estatistica\n",
    "\n",
    "O pacote scipy.stats fornece a implementação do Qui_quadrado `chi2_contingency(contingency_table)`, que já encapsula a lógica do teste e só é preciso passar como parâmetro a tabela de contingência. Ela irá retornar `chi2_stat, p_val, dof, expected`, o valor da estatística, o p-valor, o grau de liberdade e o valor esperado da tabela passada.\n",
    "\n",
    "4. Resultado final\n",
    "\n",
    "Como o p-valor = 0.0066, foi muito menor que o alpha = 0.05, podemos descartar a hipótese nula.\n",
    "\n",
    "---\n"
   ]
  },
  {
   "cell_type": "markdown",
   "metadata": {},
   "source": [
    "### 5.4 Teste χ2 (situação-problema III)\n",
    "Considere um caso hipotético em que se deseja testar a eficácia de um medicamento para um\n",
    "determinado problema médico. Suponha que temos 105 pacientes em estudo e 50 deles foram\n",
    "tratados com a droga. Os restantes 55 pacientes foram mantidos como amostras de controle.\n",
    "O estado de saúde de todos os pacientes foi verificado após uma semana. Os dados e resultados\n",
    "para todos esse indivíduos podem ser encontrados no arquivo treatment.csv.\n",
    "\n",
    "Nesta situação problema, temos duas variáveis discretas, uma que indica se o paciente foi\n",
    "tratado com o medicamento (treated ou not-treated), e outra que indica se o paciente melhorou\n",
    "ou não (improved ou not-improved) Utilizando R ou Python, verifique a alegação de que as\n",
    "duas variáveis são dependentes, usando nível de significância α = 0,05."
   ]
  },
  {
   "cell_type": "code",
   "execution_count": 53,
   "metadata": {},
   "outputs": [
    {
     "name": "stdout",
     "output_type": "stream",
     "text": [
      "improvement  improved  not-improved\n",
      "treatment                          \n",
      "not-treated        26            29\n",
      "treated            35            15\n"
     ]
    }
   ],
   "source": [
    "import pandas as pd\n",
    "\n",
    "path = 'https://raw.githubusercontent.com/selva86/datasets/master/treatment.csv'\n",
    "data = pd.read_csv(path, header=0, delimiter=',')\n",
    "data_crosstab = pd.crosstab(data['treatment'],\n",
    "data['improvement'],\n",
    "margins = False)\n",
    "print(data_crosstab)"
   ]
  },
  {
   "cell_type": "code",
   "execution_count": 54,
   "metadata": {},
   "outputs": [
    {
     "name": "stdout",
     "output_type": "stream",
     "text": [
      "\n",
      "Estatística do qui-quadrado: 4.6625668947297125\n",
      "\n",
      "Valor-p: 0.030827072412198585\n",
      "\n",
      "Graus de liberdade: 1\n",
      "\n",
      "Frequências esperadas sob H0:\n",
      "improvement   improved  not-improved\n",
      "0            31.952381     23.047619\n",
      "1            29.047619     20.952381\n",
      "\n",
      "Rejeitamos a Hipotese nula (p_valor < α)\n"
     ]
    }
   ],
   "source": [
    "from scipy.stats import chi2_contingency\n",
    "\n",
    "# Aplicar o teste qui-quadrado\n",
    "chi2_stat, p_val, dof, expected = chi2_contingency(data_crosstab)\n",
    "\n",
    "print(\"\\nEstatística do qui-quadrado:\", chi2_stat)\n",
    "print(\"\\nValor-p:\", p_val)\n",
    "print(\"\\nGraus de liberdade:\", dof)\n",
    "print(\"\\nFrequências esperadas sob H0:\")\n",
    "print(pd.DataFrame(expected, columns=data_crosstab.columns).head())\n",
    "\n",
    "if (p_val < 0.05):\n",
    "    print(\"\\nRejeitamos a Hipotese nula (p_valor < α)\")\n",
    "else:\n",
    "    print(\"\\nNão há evidências para rejeitar hipótese nula (p_valor > α)\")\n",
    "\n"
   ]
  },
  {
   "cell_type": "code",
   "execution_count": 55,
   "metadata": {},
   "outputs": [
    {
     "name": "stdout",
     "output_type": "stream",
     "text": [
      "Número de células com frequência esperada < 1: 0 de 4\n",
      "Número de células com frequência esperada < 5: 0 de 4\n",
      "Percentual de células com frequência esperada < 5: 0.0%\n"
     ]
    }
   ],
   "source": [
    "# Verificar Condições de Aplicabilidade - treatment\n",
    "\n",
    "\n",
    "# 1. Variáveis categóricas?\n",
    "# treatment: treated vs not-treated -> variável categórica\n",
    "# improvement: improved vs not-improved -> variável categórica\n",
    "\n",
    "# 2. Independência das observações\n",
    "# Como cada linha representa um paciente diferente, então as observações são independentes.\n",
    "\n",
    "# 3. Frequências esperadas razoavelmente grandes\n",
    "import numpy as np\n",
    "\n",
    "# Flatten a matriz de frequências esperadas\n",
    "flat_expected = expected.flatten()\n",
    "less_than_5 = np.sum(flat_expected < 5)\n",
    "less_than_1 = np.sum(flat_expected < 1)\n",
    "total_cells = flat_expected.size\n",
    "\n",
    "percent_below_5 = 100 * less_than_5 / total_cells\n",
    "print(f\"Número de células com frequência esperada < 1: {less_than_1} de {total_cells}\")\n",
    "print(f\"Número de células com frequência esperada < 5: {less_than_5} de {total_cells}\")\n",
    "print(f\"Percentual de células com frequência esperada < 5: {percent_below_5:.1f}%\")\n",
    "\n",
    "# regra prática:\n",
    "# Nenhuma célula com frequência esperada < 1.\n",
    "# No máximo 20% das células com frequência esperada < 5.\n",
    "\n",
    "# Sim, frequências esperadas razoavelmente grandes."
   ]
  },
  {
   "cell_type": "markdown",
   "metadata": {},
   "source": [
    "*Sua explicação aqui:*\n",
    "\n",
    "- Formular as hipóteses nula e alternativa\n",
    "\n",
    "**H₀**: As variáveis treated e not-treated são independentes.\n",
    "\n",
    "**H₁**: As variáveis são associadas entre si.\n",
    "\n",
    "\n",
    "- Estabelecer o teste de estatistica\n",
    "\n",
    "O pacote scipy.stats fornece a implementação do Qui_quadrado `chi2_contingency(contingency_table)`, que já encapsula a lógica do teste e só é preciso passar como parâmetro a tabela de contingência. Ela irá retornar `chi2_stat, p_val, dof, expected`, o valor da estatística, o p-valor, o grau de liberdade e os valores esperados da tabela passada.\n",
    "\n",
    "- Resultado final\n",
    "\n",
    "Como o p-valor = 0.03, foi menor que o alpha = 0.05, podemos descartar a hipótese nula. Ou seja, há evidência significativa de que as variáveis são dependentes entre si\n",
    "\n",
    "---\n"
   ]
  },
  {
   "cell_type": "markdown",
   "metadata": {},
   "source": [
    "### 5.5 Teste χ2 (situação-problema IV)\n",
    "\n",
    "Em http://www.flatworldknowledge.com/sites/all/files/data4.xls, está disponível um\n",
    "conjunto de dados que registra o resultado de 500 arremessos de um dado de seis lados. Verifique,\n",
    "ao nível de significância de 10%, se há evidência suficiente para concluir que o dado não é\n",
    "“justo” (ou “balanceado”), ou seja, que a distribuição de probabilidade difere da probabilidade\n",
    "1/6 para cada das seis faces do dado. Forneça a descrição detalhada dos quatro passos de\n",
    "aplicação do teste."
   ]
  },
  {
   "cell_type": "code",
   "execution_count": 56,
   "metadata": {},
   "outputs": [
    {
     "data": {
      "text/plain": [
       "(Die Result\n",
       " 1    80\n",
       " 2    97\n",
       " 3    81\n",
       " 4    82\n",
       " 5    77\n",
       " 6    83\n",
       " Name: count, dtype: int64,\n",
       "    Expected Result\n",
       " 0        83.333333\n",
       " 1        83.333333\n",
       " 2        83.333333\n",
       " 3        83.333333\n",
       " 4        83.333333\n",
       " 5        83.333333)"
      ]
     },
     "execution_count": 56,
     "metadata": {},
     "output_type": "execute_result"
    }
   ],
   "source": [
    "import pandas as pd\n",
    "\n",
    "path = 'data4.xls'\n",
    "data = pd.read_excel(path)\n",
    "N = len(data)\n",
    "\n",
    "observed = data['Die Result'].value_counts().sort_index()\n",
    "\n",
    "expected = pd.DataFrame([N/6]*6, columns=['Expected Result'])\n",
    "\n",
    "\n",
    "observed, expected"
   ]
  },
  {
   "cell_type": "code",
   "execution_count": 57,
   "metadata": {},
   "outputs": [
    {
     "name": "stdout",
     "output_type": "stream",
     "text": [
      "p-valor: [0.70861918]\n",
      "\n",
      "Não há evidências para rejeitar hipótese nula (p_valor > α)\n"
     ]
    }
   ],
   "source": [
    "from scipy.stats import chi2\n",
    "\n",
    "\n",
    "def calcular_X_squared(observed,expected):\n",
    "    x_squared = 0\n",
    "    for i in range(len(observed)):\n",
    "        x_squared+=((observed.iloc[i]-expected.iloc[i])**2)/expected.iloc[i]\n",
    "    return x_squared\n",
    "\n",
    "x_squared = calcular_X_squared(observed, expected)\n",
    "\n",
    "dof = 5 # k - 1\n",
    "\n",
    "p_value = 1 - chi2.cdf(x_squared, df=dof)\n",
    "\n",
    "print(f'p-valor: {p_value}')\n",
    "\n",
    "if (p_value < 0.1):\n",
    "    print(\"\\nRejeitamos a Hipotese nula (p_valor < α)\")\n",
    "else:\n",
    "    print(\"\\nNão há evidências para rejeitar hipótese nula (p_valor > α)\")\n",
    "\n",
    "\n"
   ]
  },
  {
   "cell_type": "code",
   "execution_count": 58,
   "metadata": {},
   "outputs": [
    {
     "name": "stdout",
     "output_type": "stream",
     "text": [
      "Número de células com frequência esperada < 1: 0 de 6\n",
      "Número de células com frequência esperada < 5: 0 de 6\n",
      "Percentual de células com frequência esperada < 5: 0.0%\n"
     ]
    }
   ],
   "source": [
    "# Verificar Condições de Aplicabilidade - dados\n",
    "\n",
    "\n",
    "# 1. Variáveis categóricas?\n",
    "# Uma única variável categórica (o lado de um dado)\n",
    "\n",
    "# 2. Independência das observações\n",
    "# Como cada linha representa um lance de dado, as observações são independentes.\n",
    "\n",
    "# 3. Frequências esperadas razoavelmente grandes\n",
    "import numpy as np\n",
    "\n",
    "# Flatten a matriz de frequências esperadas\n",
    "flat_expected = expected.values\n",
    "less_than_5 = np.sum(flat_expected < 5)\n",
    "less_than_1 = np.sum(flat_expected < 1)\n",
    "total_cells = flat_expected.size\n",
    "\n",
    "percent_below_5 = 100 * less_than_5 / total_cells\n",
    "print(f\"Número de células com frequência esperada < 1: {less_than_1} de {total_cells}\")\n",
    "print(f\"Número de células com frequência esperada < 5: {less_than_5} de {total_cells}\")\n",
    "print(f\"Percentual de células com frequência esperada < 5: {percent_below_5:.1f}%\")\n",
    "\n",
    "# regra prática:\n",
    "# Nenhuma célula com frequência esperada < 1.\n",
    "# No máximo 20% das células com frequência esperada < 5.\n",
    "\n",
    "# Sim, frequências esperadas razoavelmente grandes."
   ]
  },
  {
   "cell_type": "markdown",
   "metadata": {},
   "source": [
    "*Sua explicação aqui:*\n",
    "\n",
    "1. Formular as hipóteses nula e alternativa\n",
    "\n",
    "- **H₀**: A distribuição teórica esperada (uniforme para 1/6 de chance para cada lado do dado) se apresenta neste dado.\n",
    "- **H₁**: A distribuição teórica esperada não se apresenta no dado (o dado está desbalanceado).\n",
    "\n",
    "\n",
    "2. Montar a tabela de contingência\n",
    "\n",
    "Separamos o pd.DataFrame 'observed' para elaborar a tabela de contingência dos dados observados. Para isso, foi feito um value_counts() para cada categoria (1,2,3,4,5,6). E criamos um pd.DataFrame separado para os valores esperados. `pd.DataFrame([N/6]*6, columns=['Expected Result'])` contém a distribuição teórica esperada.\n",
    "\n",
    "3. Estabelecer o teste de estatistica\n",
    "\n",
    "Foi elaborada a `def calcular_X_squared(observed,expected):`, recebendo como parâmetro as tabelas observed e expected e nela, aplicamos a formula SUM[(O-E)²/E], para cada *i* correspondente. Com isso, obtemos a estatística X² e em seguida utilizamos o `chi2.cdf` do pacote scipy.stats para calcular a área debaixo da curva à direita de X² `1 - chi2.cdf(x_squared, df=5)`. Utilizamos df = 5, pois existem 6 categorias - 1 = 5.\n",
    "\n",
    "4. Resultado final\n",
    "\n",
    "Como o p-valor = 0.7086, foi muito maior que o alpha = 0.1, não temos evidência suficiente para descartar a hipótese nula.\n",
    "\n",
    "---\n"
   ]
  },
  {
   "attachments": {
    "image.png": {
     "image/png": "[encoded data removed]"
    }
   },
   "cell_type": "markdown",
   "metadata": {},
   "source": [
    "# (6) Teste de Permutação\n",
    "\n",
    "A Figura 4 mostra os resultados de um experimento no qual 7 de 16 camundongos foram\n",
    "selecionados aleatoriamente para receber um novo tratamento médico, enquanto os 9 restantes\n",
    "foram atribuídos ao grupo sem tratamento (controle). O tratamento tinha como objetivo\n",
    "prolongar a sobrevivência após uma cirurgia de teste. Em particular, a coluna “Data” mostra\n",
    "o tempo de sobrevivência após a cirurgia, em dias, para todos os 16 camundongos. Essa mesma\n",
    "figura também apresenta, para cada amostra: tamanho, média, desvio padrão.\n",
    "Utilize o teste de permutação para responder à seguinte pergunta de pesquisa (use nível de\n",
    "significância igual a 5%): O tratamento prolongou a sobrevivência?. Você deve apresentar a\n",
    "declaração das hipóteses, descreva como calculou a estatística de deste e o p-valor, a finalmente\n",
    "apresente sua conclusão.\n",
    "\n",
    "![image.png](attachment:image.png)"
   ]
  },
  {
   "cell_type": "code",
   "execution_count": 4,
   "metadata": {},
   "outputs": [
    {
     "name": "stdout",
     "output_type": "stream",
     "text": [
      "Não há evidência estatística suficiente para rejeitar a hipótese nula\n",
      "P-valor: 0.138\n"
     ]
    }
   ],
   "source": [
    "# Não sabemos nada sobre a população neste caso. Logo, é fundamental usarmos um teste não-paramétrico.\n",
    "\n",
    "# Amostras:\n",
    "# Grupo de teste (tempo de sobrevivência dos ratos após cirurgia de teste)\n",
    "# Grupo de controle (tempo de sobreivência, mas sem cirurgia de teste)\n",
    "\n",
    "import numpy as np\n",
    "\n",
    "# Geração da distribuição nula\n",
    "def permutation_test(group1, group2, num_permutations=1000):\n",
    "    \"\"\"\n",
    "    Perform a permutation test to compare the means of two groups.\n",
    "\n",
    "    Parameters:\n",
    "        group1 (array-like): Data for the first group.\n",
    "        group2 (array-like): Data for the second group.\n",
    "        num_permutations (int): Number of permutations to perform.\n",
    "\n",
    "    Returns:\n",
    "        p_value (float): The p-value of the test.\n",
    "    \"\"\"\n",
    "    \n",
    "    # Diferença das médias observada\n",
    "    observed_diff = np.mean(group1) - np.mean(group2)\n",
    "\n",
    "    # Combinar as amostras em um só array\n",
    "    combined = np.concatenate([group1, group2])\n",
    "\n",
    "    # 1000 permutações aleatórias da amostra combined\n",
    "    perm_diffs = []\n",
    "    for _ in range(num_permutations):\n",
    "        \n",
    "        # misturar \"combined\" aleatoriamente\n",
    "        np.random.shuffle(combined)\n",
    "        \n",
    "        # Dividir combined em 2 grupos com os mesmos tamanhos dos grupos originais (n1 e n2)\n",
    "        perm_group1 = combined[:len(group1)]\n",
    "        perm_group2 = combined[len(group1):]\n",
    "        \n",
    "        # Computar a diferença das médias e inserir no array perm_diffs\n",
    "        perm_diffs.append(np.mean(perm_group1) - np.mean(perm_group2))\n",
    "\n",
    "    # converter para np array\n",
    "    perm_diffs = np.array(perm_diffs)\n",
    "\n",
    "    # Teste unilateral (não usamos os valores absolutos)\n",
    "    p_value = np.mean(perm_diffs >= observed_diff)\n",
    "\n",
    "    return observed_diff, perm_diffs, p_value\n",
    "\n",
    "amostra_treatment = [94,197,16,38,99,141,23]\n",
    "amostra_ctrl = [52,104,146,10,50,31,40,27,46]\n",
    "\n",
    "np.random.seed(42)  # Para reprodutibilidade\n",
    "\n",
    "observed_diff, perm_diffs, p_value = permutation_test(amostra_treatment,amostra_ctrl)\n",
    "\n",
    "\n",
    "alpha = 0.05\n",
    "\n",
    "if p_value < alpha:\n",
    "    print(\"A hipótese nula pode ser rejeitada\")\n",
    "    print(f\"P-valor: {p_value}\")\n",
    "else:\n",
    "    print(\"Não há evidência estatística suficiente para rejeitar a hipótese nula\")\n",
    "    print(f\"P-valor: {p_value}\")\n",
    "\n"
   ]
  },
  {
   "cell_type": "markdown",
   "metadata": {},
   "source": [
    "*Sua explicação aqui:*\n",
    "\n",
    "**HIPÓTESES**\n",
    "\n",
    "- **H₀**: não há diferença estatisticamente significativa entre as médias das duas amostras\n",
    "- **H₁**: há diferença estatisticamente significativa entre as médias das duas amostras\n",
    "\n",
    "\n",
    "No teste de permutação a estatística de interesse é a **diferença das médias**. A partir dela, é possível criar a distribuição nula:\n",
    "\n",
    "1. Calcular a diferença das médias observada:\n",
    "    - `observed_diff = np.mean(group1) - np.mean(group2)`\n",
    "2. Concatenar as observações das duas amostras.\n",
    "3. Permutar aleatoriamente as observações agrupadas na amostra única feita em 2.\n",
    "4. Calcular a média para as primeiras n1 (no nosso caso, 7) observações da amostra única obtida a partir do item 3. Fazer o mesmo para as restantes n2 observações (9 observações restantes). Após isso, computar a diferença dessas médias e inserir no array `perm_diffs`.\n",
    "5. Os itens 3. e 4. serão iterados em `num_permutations` vezes (no nosso caso, 1000)\n",
    "\n",
    "Após as iterações das permutações e obtendo o array perm_diffs, podemos criar um outro array booleano onde cada elemento é True se a diferença obtida pela permutação for igual ou maior (em valor absoluto) que a diferença observada da amostra original, feita no item 1. \n",
    "\n",
    "Dessa forma, o p_valor será a média desse array booleano, representando a proporção de vezes em que as diferenças permutadas foi maior que a diferença observada.\n",
    "\n",
    "No nosso caso, p_valor foi 0.138 > 0.05 (alpha). Logo, não podemos rejeitar a hipótese nula (não há diferença estatisticamente significativa entre as médias das duas amostras).\n",
    "\n",
    "---"
   ]
  },
  {
   "cell_type": "markdown",
   "metadata": {},
   "source": [
    "# (7) Bootstrap\n",
    "\n",
    "Essa parte do trabalho é uma adaptação do Problema 9 na seção 5.4 de An Introduction to\n",
    "Statistical Learning6. O conjunto de dados usado aqui é o denominado Boston. Uma descrição\n",
    "desse conjunto de dados pode ser encontrada em http://lib.stat.cmu.edu/datasets/\n",
    "boston.\n",
    "\n",
    "(i) Com base neste conjunto de dados, forneça uma estimativa pontual para a média populacional\n",
    "da variável medv. Chame essa estimativa μ_hat.\n",
    "\n",
    "(ii) Forneça uma estimativa do erro padrão de μ_hat. Interprete o resultado."
   ]
  },
  {
   "cell_type": "code",
   "execution_count": 2,
   "metadata": {},
   "outputs": [],
   "source": [
    "import pandas as pd\n",
    "\n",
    "url = 'https://raw.githubusercontent.com/AILAB-CEFET-RJ/gcc1625/refs/heads/main/data/Boston.csv'\n",
    "\n",
    "boston = pd.read_csv(url)"
   ]
  },
  {
   "cell_type": "code",
   "execution_count": null,
   "metadata": {},
   "outputs": [
    {
     "name": "stdout",
     "output_type": "stream",
     "text": [
      "Estimativa pontual da média populacional (μ̂ ): 22.5328\n",
      "Erro padrão da média (SE): 0.4089\n"
     ]
    }
   ],
   "source": [
    "import numpy as np\n",
    "\n",
    "\n",
    "mu_hat = np.mean(boston['medv'])\n",
    "s = boston['medv'].std(ddof=1)\n",
    "\n",
    "n = len(boston)\n",
    "se = s / np.sqrt(n)\n",
    "\n",
    "print(f\"Estimativa pontual da média populacional (μ̂ ): {mu_hat:.4f}\")\n",
    "print(f\"Erro padrão da média (SE): {se:.4f}\")"
   ]
  },
  {
   "cell_type": "markdown",
   "metadata": {},
   "source": [
    "*Sua explicação aqui:*\n",
    "\n",
    "Um erro padrão baixo de 0.4089 sugere que a média amostral é uma estimativa precisa da média populacional, uma vez que o erro padrão mede a variabilidade esperada da média amostral em relação à verdadeira média da população.\n",
    "Assim, um valor reduzido indica que, se repetíssemos o processo de amostragem diversas vezes, as médias amostrais tenderiam a ficar próximas entre si e próximas da média populacional.\n",
    "\n",
    "---"
   ]
  },
  {
   "cell_type": "markdown",
   "metadata": {},
   "source": [
    "(iii) Agora estime o erro padrão de μ_hat usando o método Bootstrap. Como essa estimativa se\n",
    "compara com sua resposta de (ii)?"
   ]
  },
  {
   "cell_type": "code",
   "execution_count": 4,
   "metadata": {},
   "outputs": [
    {
     "name": "stdout",
     "output_type": "stream",
     "text": [
      "0.4051470768150291\n"
     ]
    }
   ],
   "source": [
    "sample = boston['medv']\n",
    "\n",
    "medias = []\n",
    "\n",
    "# Bootstrap\n",
    "np.random.seed(42)  # Para reprodutibilidade\n",
    "\n",
    "for i in range(10000):\n",
    "    sample_bootstrap = np.random.choice(sample,n,replace=True)   \n",
    "    medias.append(np.mean(sample_bootstrap))\n",
    "\n",
    "std = np.std(medias)\n",
    "print(std)"
   ]
  },
  {
   "cell_type": "markdown",
   "metadata": {},
   "source": [
    "*Sua explicação aqui:*\n",
    "\n",
    "O Erro Padrão usando a técnica de bootstraping foi de 0.4051, enquanto a estimativa feita em (ii) foi de 0.4089. Pequenas diferenças podem ocorrer se houver assimetria ou outliers na amostra original. Porém, os dados sendo aproximadamente normais e independentes, os dois erros padrões serão próximos.\n",
    "\n",
    "\n",
    "\n",
    "\n",
    "---"
   ]
  },
  {
   "cell_type": "markdown",
   "metadata": {},
   "source": [
    "(iv) Com base em sua estimativa de bootstrap de (iii), forneça um intervalo de confiança de\n",
    "95% para a média de medv. Compare-o com os resultados obtidos usando t-test sobre o\n",
    "atributo medv."
   ]
  },
  {
   "cell_type": "code",
   "execution_count": 5,
   "metadata": {},
   "outputs": [
    {
     "name": "stdout",
     "output_type": "stream",
     "text": [
      "Intervalo de confiança bootstrap (95%) para a média de medv: [21.77, 23.36]\n",
      "Intervalo de confiança t-test (95%) para a média de medv: [21.73, 23.34]\n"
     ]
    }
   ],
   "source": [
    "from scipy.stats import t\n",
    "\n",
    "alpha = 0.05\n",
    "\n",
    "# Bootstrap\n",
    "lower_b = np.percentile(medias, 100*alpha/2)\n",
    "upper_b = np.percentile(medias, 100*(1-alpha/2))\n",
    "\n",
    "print(f\"Intervalo de confiança bootstrap (95%) para a média de medv: [{lower_b:.2f}, {upper_b:.2f}]\")\n",
    "\n",
    "# T-test\n",
    "medv = boston['medv']\n",
    "n = len(medv)\n",
    "t_crit = t.ppf(alpha/2,df=n-1)\n",
    "\n",
    "s = np.std(medv, ddof = 1)\n",
    "me = np.abs(t_crit *  s/np.sqrt(n))\n",
    "\n",
    "lower_t = np.mean(medv) - me\n",
    "upper_t = np.mean(medv) + me\n",
    "\n",
    "print(f\"Intervalo de confiança t-test (95%) para a média de medv: [{lower_t:.2f}, {upper_t:.2f}]\")"
   ]
  },
  {
   "cell_type": "markdown",
   "metadata": {},
   "source": [
    "*Sua explicação aqui:*\n",
    "\n",
    "Ambos os intervalos de confiança são bem semelhantes, por conta dos dados serem normais e sem muitos outliers.\n",
    "\n",
    "---\n"
   ]
  },
  {
   "cell_type": "markdown",
   "metadata": {},
   "source": [
    "(v) Com base neste conjunto de dados, forneça uma estimativa, μ_hat_med, para a mediana populacional\n",
    "de medv."
   ]
  },
  {
   "cell_type": "code",
   "execution_count": 6,
   "metadata": {},
   "outputs": [
    {
     "name": "stdout",
     "output_type": "stream",
     "text": [
      "Estimativa pontual da mediana populacional (μ_hat_med): 21.2\n"
     ]
    }
   ],
   "source": [
    "mu_hat_med = np.median(boston['medv'])\n",
    "\n",
    "print(f\"Estimativa pontual da mediana populacional (μ_hat_med): {mu_hat_med}\")"
   ]
  },
  {
   "cell_type": "markdown",
   "metadata": {},
   "source": [
    "(vi) Agora você deve estimar o erro padrão de μ_hat_med. Infelizmente, não há uma fórmula\n",
    "simples para calcular o erro padrão da mediana. Em vez disso, estime o erro padrão da\n",
    "mediana usando o método bootstrap. Comente suas descobertas."
   ]
  },
  {
   "cell_type": "code",
   "execution_count": 7,
   "metadata": {},
   "outputs": [
    {
     "name": "stdout",
     "output_type": "stream",
     "text": [
      "0.37698037296389814\n"
     ]
    }
   ],
   "source": [
    "sample = boston['medv']\n",
    "\n",
    "medianas = []\n",
    "\n",
    "# Bootstrap\n",
    "np.random.seed(42)  # Para reprodutibilidade\n",
    "\n",
    "for i in range(10000):\n",
    "    sample_bootstrap = np.random.choice(sample,n,replace=True)   \n",
    "    medianas.append(np.median(sample_bootstrap))\n",
    "\n",
    "std = np.std(medianas)\n",
    "print(std)"
   ]
  },
  {
   "cell_type": "markdown",
   "metadata": {},
   "source": [
    "*Sua explicação aqui:*\n",
    "\n",
    "O erro padrão da mediana indica a variabilidade esperada na mediana, caso repetíssemos a amostragem várias vezes.\n",
    "\n",
    "Assim como para a média, quanto menor esse erro, mais precisa é a estimativa da mediana.\n",
    "\n",
    "No nosso caso, o erro padrão para a mediana é bem baixo (0.3769), mas bem próximo do erro padrão para a média (0.4051).\n",
    "\n",
    "---"
   ]
  },
  {
   "cell_type": "markdown",
   "metadata": {},
   "source": [
    "(vii) Forneça uma estimativa para o décimo percentil do atributo medv. Chame essa quantidade\n",
    "de μ_hat(0.1)."
   ]
  },
  {
   "cell_type": "code",
   "execution_count": 8,
   "metadata": {},
   "outputs": [
    {
     "name": "stdout",
     "output_type": "stream",
     "text": [
      "12.75\n"
     ]
    }
   ],
   "source": [
    "mu_hat_01 = np.percentile(boston['medv'], 10)\n",
    "\n",
    "print(mu_hat_01)"
   ]
  },
  {
   "cell_type": "markdown",
   "metadata": {},
   "source": [
    "(viii) Use o método bootstrap para estimar o erro padrão de ˆμ0.1. Comente suas descobertas."
   ]
  },
  {
   "cell_type": "code",
   "execution_count": 9,
   "metadata": {},
   "outputs": [
    {
     "name": "stdout",
     "output_type": "stream",
     "text": [
      "0.5005240397823065\n"
     ]
    }
   ],
   "source": [
    "sample = boston['medv']\n",
    "\n",
    "decimo_percentis = []\n",
    "\n",
    "# Bootstrap\n",
    "np.random.seed(42)  # Para reprodutibilidade\n",
    "\n",
    "for i in range(10000):\n",
    "    sample_bootstrap = np.random.choice(sample,n,replace=True)   \n",
    "    decimo_percentis.append(np.percentile(sample_bootstrap,10))\n",
    "\n",
    "print(np.std(decimo_percentis))"
   ]
  },
  {
   "cell_type": "markdown",
   "metadata": {},
   "source": [
    "*Sua explicação aqui:*\n",
    "\n",
    "O erro padrão do décimo percentil indica o quanto o percentil de 10% variaria se repetíssemos a amostragem diversas vezes.\n",
    "\n",
    "Como o erro é baixo, significa que o percentil de 10% é uma estimativa precisa e estável. O seu valor foi um pouco maior que o da média, feito anteriormente (0.4051).\n",
    "\n",
    "Esse aumento é esperado, pois a estimativa de percentis em regiões extremas da distribuição, como as caudas, tende a apresentar maior variabilidade do que medidas centrais, como a média ou a mediana.\n",
    "\n",
    "---"
   ]
  },
  {
   "cell_type": "markdown",
   "metadata": {},
   "source": [
    "# (8) Teste de Permutação vs Bootstrap\n",
    "\n",
    "\n",
    "Uma empresa quer saber se é eficiente ensinar novas ferramentas aos seus funcionários usando\n",
    "cursos pela internet. A empresa seleciona aleatoriamente 7 trabalhadores e os atribui a dois\n",
    "grupos de tamanhos 4 e 3. O primeiro grupo frequentou aulas tradicionais, e o segundo frequentou\n",
    "cursos pela internet. Após a realização dos cursos, foi aplicado um teste aos trabalhadores,\n",
    "cujos resultados foram:\n",
    "\n",
    "- Cursos na Internet: 37, 49, 55, 57\n",
    "- Cursos tradicionais: 23, 31, 46\n",
    "\n",
    "Verifique se os cursos da Internet são mais efetivos do que os cursos tradicionais. Para isso,\n",
    "aplique um teste de permutação e um teste de bootstrap. Use o nível de significância α = 0.1.\n",
    "Os dois testes levam à mesma conclusão?"
   ]
  },
  {
   "cell_type": "code",
   "execution_count": 6,
   "metadata": {},
   "outputs": [
    {
     "name": "stdout",
     "output_type": "stream",
     "text": [
      "A hipótese nula pode ser rejeitada\n",
      "P-valor (permutation test): 0.06\n"
     ]
    }
   ],
   "source": [
    "import numpy as np\n",
    "\n",
    "# Geração da distribuição nula\n",
    "def permutation_test(group1, group2, num_permutations=1000):\n",
    "    \"\"\"\n",
    "    Perform a permutation test to compare the means of two groups.\n",
    "\n",
    "    Parameters:\n",
    "        group1 (array-like): Data for the first group.\n",
    "        group2 (array-like): Data for the second group.\n",
    "        num_permutations (int): Number of permutations to perform.\n",
    "\n",
    "    Returns:\n",
    "        p_value (float): The p-value of the test.\n",
    "    \"\"\"\n",
    "    \n",
    "    # Diferença das médias observada\n",
    "    observed_diff = np.mean(group1) - np.mean(group2)\n",
    "\n",
    "    # Combinar as amostras em um só array\n",
    "    combined = np.concatenate([group1, group2])\n",
    "\n",
    "    # 1000 permutações aleatórias da amostra combined\n",
    "    perm_diffs = []\n",
    "    for _ in range(num_permutations):\n",
    "        \n",
    "        # misturar \"combined\" aleatoriamente\n",
    "        np.random.shuffle(combined)\n",
    "        \n",
    "        # Dividir combined em 2 grupos com os mesmos tamanhos dos grupos originais (n1 e n2)\n",
    "        perm_group1 = combined[:len(group1)]\n",
    "        perm_group2 = combined[len(group1):]\n",
    "        \n",
    "        # Computar a diferença das médias e inserir no array perm_diffs\n",
    "        perm_diffs.append(np.mean(perm_group1) - np.mean(perm_group2))\n",
    "\n",
    "    # converter para np array\n",
    "    perm_diffs = np.array(perm_diffs)\n",
    "\n",
    "    # Teste unilateral (não usamos os valores absolutos)\n",
    "    p_value = np.mean(perm_diffs >= observed_diff)\n",
    "\n",
    "    return observed_diff, perm_diffs, p_value\n",
    "\n",
    "\n",
    "np.random.seed(42)  # Para reprodutibilidade\n",
    "\n",
    "amostra_internet = [37, 49, 55, 57]\n",
    "amostra_tradicional = [23, 31, 46]\n",
    "\n",
    "observed_diff, perm_diffs, p_value_perm = permutation_test(amostra_internet, amostra_tradicional)\n",
    "\n",
    "alpha = 0.1\n",
    "\n",
    "if p_value_perm < alpha:\n",
    "    print(\"A hipótese nula pode ser rejeitada\")\n",
    "    print(f\"P-valor (permutation test): {p_value_perm}\")\n",
    "else:\n",
    "    print(\"Não há evidência estatística suficiente para rejeitar a hipótese nula\")\n",
    "    print(f\"P-valor (permutation test): {p_value_perm}\")\n",
    "\n"
   ]
  },
  {
   "cell_type": "code",
   "execution_count": 7,
   "metadata": {},
   "outputs": [
    {
     "name": "stdout",
     "output_type": "stream",
     "text": [
      "IC(90%): [4.0 , 27.0]\n"
     ]
    },
    {
     "data": {
      "text/plain": [
       "<matplotlib.lines.Line2D at 0x27dfacf2a20>"
      ]
     },
     "execution_count": 7,
     "metadata": {},
     "output_type": "execute_result"
    },
    {
     "data": {
      "image/png": "[encoded data removed]",
      "text/plain": [
       "<Figure size 640x480 with 1 Axes>"
      ]
     },
     "metadata": {},
     "output_type": "display_data"
    }
   ],
   "source": [
    "import numpy as np\n",
    "import seaborn as sns\n",
    "from scipy.stats import t\n",
    "import matplotlib.pyplot as plt\n",
    "\n",
    "def boostrap(sample1,sample2):\n",
    "    n1 = len(sample1)\n",
    "    n2 = len(sample2)\n",
    "    diffs_x_bar = []\n",
    "    for i in range(10000):\n",
    "        sample1_bootstrap = np.random.choice(sample1,n1,replace=True)   \n",
    "        sample2_bootstrap = np.random.choice(sample2,n2,replace=True)\n",
    "        diffs_x_bar.append(np.mean(sample1_bootstrap) - np.mean(sample2_bootstrap))\n",
    "    return diffs_x_bar\n",
    "    \n",
    "amostra_internet = [37, 49, 55, 57]\n",
    "amostra_tradicional = [23, 31, 46]\n",
    "\n",
    "diffs_x_bar = boostrap(amostra_internet, amostra_tradicional)\n",
    "\n",
    "# Hipótese nula é de que Diff_x_bar = 0\n",
    "\n",
    "# Intervalos\n",
    "ci_lower = np.percentile(diffs_x_bar, 5)\n",
    "ci_upper = np.percentile(diffs_x_bar, 95)\n",
    "\n",
    "# Ver se o 0 está dentro do intervalo de confiança\n",
    "print(f\"IC(90%): [{ci_lower} , {ci_upper}]\")\n",
    "\n",
    "sns.histplot(diffs_x_bar,bins=50,kde=True)\n",
    "plt.axvline(ci_lower, color='red', linestyle='dashed')\n",
    "\n"
   ]
  },
  {
   "cell_type": "markdown",
   "metadata": {},
   "source": [
    "*Sua explicação aqui:*\n",
    "\n",
    "Para ambos os testes, queremos testar as seguintes hipóteses:\n",
    "\n",
    "**H₀**: não há diferença estatisticamente significativa entre as médias das duas amostras (Diferença das médias = 0)\n",
    "\n",
    "**H₁**: há diferença estatisticamente significativa entre as médias das duas amostras\n",
    "\n",
    "- Teste de Permutação:\n",
    "\n",
    "Nesse caso, há evidência estatística suficiente para rejeitar a hipótese nula, pois P-valor (0.06) é menor que o nível de significância 0.10.\n",
    "\n",
    "- Teste com Bootstrapping:\n",
    "\n",
    "Pegamos 2 amostras bootstrap (com reposição) à partir das originais e computamos a diferença das médias `diffs_x_bar`. Realizamos isso em 10.000 simulações. Com isso, obtivemos a distribuição da estatística de interesse. Criamos o intervalo de confiança de 90%, visto que alpha = 0.1:\n",
    "\n",
    "    - IC(90%): [4.0 , 27.0]\n",
    "\n",
    "Como o 0 não está dentro do intervalo de confiança, podemos rejeitar a hipótese nula ao nível de significância de 10%.\n",
    "\n",
    "\n",
    "\n",
    "---"
   ]
  }
 ],
 "metadata": {
  "kernelspec": {
   "display_name": "base",
   "language": "python",
   "name": "python3"
  },
  "language_info": {
   "codemirror_mode": {
    "name": "ipython",
    "version": 3
   },
   "file_extension": ".py",
   "mimetype": "text/x-python",
   "name": "python",
   "nbconvert_exporter": "python",
   "pygments_lexer": "ipython3",
   "version": "3.12.7"
  }
 },
 "nbformat": 4,
 "nbformat_minor": 2
}
